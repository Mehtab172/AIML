{
 "cells": [
  {
   "cell_type": "markdown",
   "id": "a3fdfc86-d0b4-45c1-b511-3eb795e52ef7",
   "metadata": {},
   "source": [
    "# Create the DataFrame with a Following data"
   ]
  },
  {
   "cell_type": "code",
   "execution_count": 3,
   "id": "c9be2c0c-6eb4-4bea-92e5-61d3093e73a0",
   "metadata": {},
   "outputs": [],
   "source": [
    "import pandas as pd\n",
    "import numpy as np\n",
    "import matplotlib.pyplot as plt"
   ]
  },
  {
   "cell_type": "code",
   "execution_count": 4,
   "id": "225c6620-4d27-497f-a6da-d6952ac541a9",
   "metadata": {},
   "outputs": [
    {
     "data": {
      "text/html": [
       "<div>\n",
       "<style scoped>\n",
       "    .dataframe tbody tr th:only-of-type {\n",
       "        vertical-align: middle;\n",
       "    }\n",
       "\n",
       "    .dataframe tbody tr th {\n",
       "        vertical-align: top;\n",
       "    }\n",
       "\n",
       "    .dataframe thead th {\n",
       "        text-align: right;\n",
       "    }\n",
       "</style>\n",
       "<table border=\"1\" class=\"dataframe\">\n",
       "  <thead>\n",
       "    <tr style=\"text-align: right;\">\n",
       "      <th></th>\n",
       "      <th>Ename</th>\n",
       "      <th>type</th>\n",
       "      <th>Dept</th>\n",
       "      <th>Experiance</th>\n",
       "      <th>Salary</th>\n",
       "    </tr>\n",
       "  </thead>\n",
       "  <tbody>\n",
       "    <tr>\n",
       "      <th>0</th>\n",
       "      <td>Raj</td>\n",
       "      <td>Regular</td>\n",
       "      <td>CS</td>\n",
       "      <td>2</td>\n",
       "      <td>10000</td>\n",
       "    </tr>\n",
       "    <tr>\n",
       "      <th>1</th>\n",
       "      <td>Ram</td>\n",
       "      <td>Adoch</td>\n",
       "      <td>EC</td>\n",
       "      <td>8</td>\n",
       "      <td>20000</td>\n",
       "    </tr>\n",
       "    <tr>\n",
       "      <th>2</th>\n",
       "      <td>Roshan</td>\n",
       "      <td>Contract</td>\n",
       "      <td>EC</td>\n",
       "      <td>5</td>\n",
       "      <td>5000</td>\n",
       "    </tr>\n",
       "    <tr>\n",
       "      <th>3</th>\n",
       "      <td>Roja</td>\n",
       "      <td>Regular</td>\n",
       "      <td>CS</td>\n",
       "      <td>10</td>\n",
       "      <td>15000</td>\n",
       "    </tr>\n",
       "  </tbody>\n",
       "</table>\n",
       "</div>"
      ],
      "text/plain": [
       "    Ename      type Dept  Experiance  Salary\n",
       "0     Raj   Regular   CS           2   10000\n",
       "1     Ram     Adoch   EC           8   20000\n",
       "2  Roshan  Contract   EC           5    5000\n",
       "3    Roja   Regular   CS          10   15000"
      ]
     },
     "execution_count": 4,
     "metadata": {},
     "output_type": "execute_result"
    }
   ],
   "source": [
    "data={\n",
    "    'Ename':['Raj','Ram','Roshan','Roja'],\n",
    "    'type':['Regular','Adoch','Contract','Regular'],\n",
    "    'Dept':['CS','EC','EC','CS'],\n",
    "    'Experiance':[2,8,5,10],\n",
    "    'Salary':[10000,20000,5000,15000]\n",
    "}\n",
    "df=pd.DataFrame(data)\n",
    "df"
   ]
  },
  {
   "cell_type": "markdown",
   "id": "5459c02f-91e8-4567-95b6-b10f5687464a",
   "metadata": {},
   "source": [
    "# find the average salary of regular faculty"
   ]
  },
  {
   "cell_type": "code",
   "execution_count": 10,
   "id": "acd3826b-590e-41b3-900f-1d5026bc446e",
   "metadata": {},
   "outputs": [
    {
     "data": {
      "text/plain": [
       "<bound method Series.mean of 0    10000\n",
       "3    15000\n",
       "Name: Salary, dtype: int64>"
      ]
     },
     "execution_count": 10,
     "metadata": {},
     "output_type": "execute_result"
    }
   ],
   "source": [
    "Regular=df[df['type']=='Regular']\n",
    "Regular['Salary'].mean\n"
   ]
  },
  {
   "cell_type": "markdown",
   "id": "f2c272f1-f987-40db-8abe-b575388f7357",
   "metadata": {},
   "source": [
    "# a) Add one more column qualification to the table"
   ]
  },
  {
   "cell_type": "code",
   "execution_count": 4,
   "id": "b8c4a14f-00ce-4ce7-8b7a-b5db623ce069",
   "metadata": {},
   "outputs": [
    {
     "data": {
      "text/html": [
       "<div>\n",
       "<style scoped>\n",
       "    .dataframe tbody tr th:only-of-type {\n",
       "        vertical-align: middle;\n",
       "    }\n",
       "\n",
       "    .dataframe tbody tr th {\n",
       "        vertical-align: top;\n",
       "    }\n",
       "\n",
       "    .dataframe thead th {\n",
       "        text-align: right;\n",
       "    }\n",
       "</style>\n",
       "<table border=\"1\" class=\"dataframe\">\n",
       "  <thead>\n",
       "    <tr style=\"text-align: right;\">\n",
       "      <th></th>\n",
       "      <th>Ename</th>\n",
       "      <th>type</th>\n",
       "      <th>Dept</th>\n",
       "      <th>Experiance</th>\n",
       "      <th>Salary</th>\n",
       "      <th>Qualification</th>\n",
       "    </tr>\n",
       "  </thead>\n",
       "  <tbody>\n",
       "    <tr>\n",
       "      <th>0</th>\n",
       "      <td>Raj</td>\n",
       "      <td>Regular</td>\n",
       "      <td>CS</td>\n",
       "      <td>2</td>\n",
       "      <td>10000</td>\n",
       "      <td>B.Tech</td>\n",
       "    </tr>\n",
       "    <tr>\n",
       "      <th>1</th>\n",
       "      <td>Ram</td>\n",
       "      <td>Adoch</td>\n",
       "      <td>EC</td>\n",
       "      <td>8</td>\n",
       "      <td>20000</td>\n",
       "      <td>Diploma</td>\n",
       "    </tr>\n",
       "    <tr>\n",
       "      <th>2</th>\n",
       "      <td>Roshan</td>\n",
       "      <td>Contract</td>\n",
       "      <td>EC</td>\n",
       "      <td>5</td>\n",
       "      <td>5000</td>\n",
       "      <td>M.Tech</td>\n",
       "    </tr>\n",
       "    <tr>\n",
       "      <th>3</th>\n",
       "      <td>Roja</td>\n",
       "      <td>Regular</td>\n",
       "      <td>CS</td>\n",
       "      <td>10</td>\n",
       "      <td>15000</td>\n",
       "      <td>PhD</td>\n",
       "    </tr>\n",
       "  </tbody>\n",
       "</table>\n",
       "</div>"
      ],
      "text/plain": [
       "    Ename      type Dept  Experiance  Salary Qualification\n",
       "0     Raj   Regular   CS           2   10000        B.Tech\n",
       "1     Ram     Adoch   EC           8   20000       Diploma\n",
       "2  Roshan  Contract   EC           5    5000        M.Tech\n",
       "3    Roja   Regular   CS          10   15000           PhD"
      ]
     },
     "execution_count": 4,
     "metadata": {},
     "output_type": "execute_result"
    }
   ],
   "source": [
    "df['Qualification'] = ['B.Tech', 'Diploma', 'M.Tech', 'PhD']\n",
    "df"
   ]
  },
  {
   "cell_type": "markdown",
   "id": "6d083879-a489-4559-842d-c220ff4da2a3",
   "metadata": {},
   "source": [
    "# b)Draw the Bar chart to show number of employees in each type"
   ]
  },
  {
   "cell_type": "code",
   "execution_count": 5,
   "id": "659640dd-d44b-4f04-b248-87551b4c763c",
   "metadata": {},
   "outputs": [
    {
     "data": {
      "image/png": "[encoded data removed]",
      "text/plain": [
       "<Figure size 640x480 with 1 Axes>"
      ]
     },
     "metadata": {},
     "output_type": "display_data"
    }
   ],
   "source": [
    "type_counts = df['type'].value_counts()\n",
    "plt.bar(type_counts.index, type_counts.values, color='green')\n",
    "plt.title('Number of Employees in Each Type')\n",
    "plt.xlabel('Type')\n",
    "plt.ylabel('Count')\n",
    "plt.show()"
   ]
  },
  {
   "cell_type": "markdown",
   "id": "58df8c15-955d-4541-b091-550d1df42e44",
   "metadata": {},
   "source": [
    "# c) Display the Number of employees who have more than 5000 salary"
   ]
  },
  {
   "cell_type": "code",
   "execution_count": 13,
   "id": "633d8dc8-4ae7-456a-be06-e049985a60e5",
   "metadata": {},
   "outputs": [
    {
     "data": {
      "text/plain": [
       "4"
      ]
     },
     "execution_count": 13,
     "metadata": {},
     "output_type": "execute_result"
    }
   ],
   "source": [
    "df.shape[0]"
   ]
  },
  {
   "cell_type": "code",
   "execution_count": 28,
   "id": "c68edfbd-e043-447e-8c66-0247b7c1a7e9",
   "metadata": {},
   "outputs": [
    {
     "data": {
      "text/plain": [
       "3"
      ]
     },
     "execution_count": 28,
     "metadata": {},
     "output_type": "execute_result"
    }
   ],
   "source": [
    "df[df['Salary'] > 5000].shape[0]"
   ]
  },
  {
   "cell_type": "code",
   "execution_count": 27,
   "id": "dfe932e0-f5a4-45b5-ad8a-511bf1350716",
   "metadata": {},
   "outputs": [
    {
     "data": {
      "text/plain": [
       "Ename  type     Dept  Experiance  Salary  Qualification\n",
       "Raj    Regular  CS    2           10000   B.Tech           1\n",
       "Ram    Adoch    EC    8           20000   Diploma          1\n",
       "Roja   Regular  CS    10          15000   PhD              1\n",
       "Name: count, dtype: int64"
      ]
     },
     "execution_count": 27,
     "metadata": {},
     "output_type": "execute_result"
    }
   ],
   "source": [
    "df[df['Salary'] > 5000].value_counts()"
   ]
  },
  {
   "cell_type": "markdown",
   "id": "a3432857-ed53-4612-b746-beabc194ff7f",
   "metadata": {},
   "source": [
    "# d) display Scatter plot to show distribution of experience"
   ]
  },
  {
   "cell_type": "code",
   "execution_count": 29,
   "id": "bedd3f27-0f17-411b-a07b-c58848a1115d",
   "metadata": {},
   "outputs": [
    {
     "data": {
      "image/png": "[encoded data removed]",
      "text/plain": [
       "<Figure size 640x480 with 1 Axes>"
      ]
     },
     "metadata": {},
     "output_type": "display_data"
    }
   ],
   "source": [
    "plt.scatter(df['Ename'], df['Experiance'], color='orange')\n",
    "plt.title('Distribution of Experience')\n",
    "plt.xlabel('Employee Name')\n",
    "plt.ylabel('Experience (years)')\n",
    "plt.show()"
   ]
  },
  {
   "cell_type": "markdown",
   "id": "5237d831-8182-4ab8-b259-8805d20baed8",
   "metadata": {},
   "source": [
    "#  e)Plot the Bar graph to total number of employees in each branch and in each type"
   ]
  },
  {
   "cell_type": "code",
   "execution_count": 13,
   "id": "adee6b72-4d31-435c-9d43-c288ce09eea2",
   "metadata": {},
   "outputs": [
    {
     "data": {
      "image/png": "[encoded data removed]",
      "text/plain": [
       "<Figure size 800x500 with 1 Axes>"
      ]
     },
     "metadata": {},
     "output_type": "display_data"
    }
   ],
   "source": [
    "grouped = df.groupby(['Dept', 'type']).size().unstack()\n",
    "grouped.plot(kind='bar', stacked=True, figsize=(8,5), colormap='viridis')\n",
    "plt.title('Employees in Each Dept and Type')\n",
    "plt.xlabel('Department')\n",
    "plt.ylabel('Number of Employees')\n",
    "plt.legend(title='Type')\n",
    "plt.show()"
   ]
  },
  {
   "cell_type": "markdown",
   "id": "0a88ebd4-776e-4cca-835a-9a4c3402581b",
   "metadata": {},
   "source": [
    "#  f) Display mean, median, std dev, max, and min for the salary column"
   ]
  },
  {
   "cell_type": "code",
   "execution_count": 43,
   "id": "16948d84-1607-4b7a-a70f-a4b479f3e9f4",
   "metadata": {},
   "outputs": [
    {
     "name": "stdout",
     "output_type": "stream",
     "text": [
      "\n",
      "Salary Statistics:\n",
      "Mean Salary: 12500.0\n",
      "Median Salary: 12500.0\n",
      "Standard Deviation: 6454.972243679028\n",
      "Maximum Salary: 20000\n",
      "Minimum Salary: 5000\n"
     ]
    }
   ],
   "source": [
    "print(\"\\nSalary Statistics:\")\n",
    "print(\"Mean Salary:\", df['Salary'].mean())\n",
    "print(\"Median Salary:\", df['Salary'].median())\n",
    "print(\"Standard Deviation:\", df['Salary'].std())\n",
    "print(\"Maximum Salary:\", df['Salary'].max())\n",
    "print(\"Minimum Salary:\", df['Salary'].min())"
   ]
  },
  {
   "cell_type": "code",
   "execution_count": null,
   "id": "5baaa185-aa42-4fd7-9fde-39caff8d677f",
   "metadata": {},
   "outputs": [],
   "source": []
  }
 ],
 "metadata": {
  "kernelspec": {
   "display_name": "Python 3 (ipykernel)",
   "language": "python",
   "name": "python3"
  },
  "language_info": {
   "codemirror_mode": {
    "name": "ipython",
    "version": 3
   },
   "file_extension": ".py",
   "mimetype": "text/x-python",
   "name": "python",
   "nbconvert_exporter": "python",
   "pygments_lexer": "ipython3",
   "version": "3.12.3"
  }
 },
 "nbformat": 4,
 "nbformat_minor": 5
}
