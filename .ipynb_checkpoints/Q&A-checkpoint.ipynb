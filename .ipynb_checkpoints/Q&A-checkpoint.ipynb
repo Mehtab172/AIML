{
 "cells": [
  {
   "cell_type": "markdown",
   "id": "922d67a5-fd27-4996-99b7-8959a411085c",
   "metadata": {},
   "source": [
    "# 1.Here given the bating statistics of Indian great cricketer Anil kumble.Perform the following operations\n"
   ]
  },
  {
   "cell_type": "code",
   "execution_count": 3,
   "id": "984277f7-737a-4fba-90e5-c4a099b2404e",
   "metadata": {},
   "outputs": [
    {
     "name": "stdout",
     "output_type": "stream",
     "text": [
      "   Anil T20runs  Anil ODIruns  Anil TESTruns\n",
      "0            50            64             84\n",
      "1            80           100            150\n",
      "2            44           112            200\n",
      "3            63            77             64\n",
      "4            75            95            177\n"
     ]
    }
   ],
   "source": [
    "import pandas as pd\n",
    "data={\n",
    "    'Anil T20runs':[50,80,44,63,75],\n",
    "    'Anil ODIruns':[64,100,112,77,95],\n",
    "    'Anil TESTruns':[84,150,200,64,177]\n",
    "}\n",
    "df=pd.DataFrame(data)\n",
    "print(df)"
   ]
  },
  {
   "cell_type": "markdown",
   "id": "af955851-fd55-46b1-80b3-3915eea09726",
   "metadata": {},
   "source": [
    "# (a)Aggregation"
   ]
  },
  {
   "cell_type": "code",
   "execution_count": 4,
   "id": "0fe1c5be-2997-4e0b-9fda-2b1cc345e07b",
   "metadata": {},
   "outputs": [
    {
     "name": "stdout",
     "output_type": "stream",
     "text": [
      "Anil T20runs     312\n",
      "Anil ODIruns     448\n",
      "Anil TESTruns    675\n",
      "dtype: int64\n",
      "Anil T20runs      62.4\n",
      "Anil ODIruns      89.6\n",
      "Anil TESTruns    135.0\n",
      "dtype: float64\n",
      "Anil T20runs      80\n",
      "Anil ODIruns     112\n",
      "Anil TESTruns    200\n",
      "dtype: int64\n",
      "Anil T20runs     44\n",
      "Anil ODIruns     64\n",
      "Anil TESTruns    64\n",
      "dtype: int64\n",
      "Anil T20runs     5\n",
      "Anil ODIruns     5\n",
      "Anil TESTruns    5\n",
      "dtype: int64\n"
     ]
    }
   ],
   "source": [
    "print(df.sum())\n",
    "print(df.mean())\n",
    "print(df.max())\n",
    "print(df.min())\n",
    "print(df.count())"
   ]
  },
  {
   "cell_type": "markdown",
   "id": "3ca012a9-ac4e-41c7-935d-08914bd59127",
   "metadata": {},
   "source": [
    "# (b)Grouping"
   ]
  },
  {
   "cell_type": "code",
   "execution_count": 6,
   "id": "609be82c-c694-4394-984f-eb8681108be2",
   "metadata": {},
   "outputs": [
    {
     "name": "stdout",
     "output_type": "stream",
     "text": [
      "                           Anil TESTruns\n",
      "Anil T20runs Anil ODIruns               \n",
      "44           112                     200\n",
      "50           64                       84\n",
      "63           77                       64\n",
      "75           95                      177\n",
      "80           100                     150\n"
     ]
    }
   ],
   "source": [
    "grouping = df.groupby(['Anil T20runs','Anil ODIruns'])\n",
    "print(grouping.first())"
   ]
  },
  {
   "cell_type": "markdown",
   "id": "5fc99c2d-3bc2-4078-8505-a1a6a0b56465",
   "metadata": {},
   "source": [
    "## (c) Time series"
   ]
  },
  {
   "cell_type": "code",
   "execution_count": 18,
   "id": "aa5706b7-bbfe-45f6-8f99-57b8c636096f",
   "metadata": {},
   "outputs": [
    {
     "name": "stdout",
     "output_type": "stream",
     "text": [
      "DatetimeIndex(['2019-01-01 00:00:00', '2019-01-01 00:01:00',\n",
      "               '2019-01-01 00:02:00', '2019-01-01 00:03:00',\n",
      "               '2019-01-01 00:04:00', '2019-01-01 00:05:00',\n",
      "               '2019-01-01 00:06:00', '2019-01-01 00:07:00',\n",
      "               '2019-01-01 00:08:00', '2019-01-01 00:09:00',\n",
      "               ...\n",
      "               '2019-01-07 23:51:00', '2019-01-07 23:52:00',\n",
      "               '2019-01-07 23:53:00', '2019-01-07 23:54:00',\n",
      "               '2019-01-07 23:55:00', '2019-01-07 23:56:00',\n",
      "               '2019-01-07 23:57:00', '2019-01-07 23:58:00',\n",
      "               '2019-01-07 23:59:00', '2019-01-08 00:00:00'],\n",
      "              dtype='datetime64[ns]', length=10081, freq='min')\n"
     ]
    }
   ],
   "source": [
    "import pandas as pd\n",
    "from datetime import datetime\n",
    "import numpy as np\n",
    "\n",
    "# range_date\n",
    "rd = pd.date_range(start ='1/1/2019', end ='1/08/2019', freq ='Min')\n",
    "print(rd)"
   ]
  },
  {
   "cell_type": "markdown",
   "id": "0a28eb2e-9b57-4d6d-b3ba-80d2f5f15d25",
   "metadata": {},
   "source": [
    "## 2. Create  a data frame with the follwing"
   ]
  },
  {
   "cell_type": "code",
   "execution_count": 19,
   "id": "983280c8-14fd-4a40-96b8-0a3a88fd52f2",
   "metadata": {},
   "outputs": [
    {
     "data": {
      "text/html": [
       "<div>\n",
       "<style scoped>\n",
       "    .dataframe tbody tr th:only-of-type {\n",
       "        vertical-align: middle;\n",
       "    }\n",
       "\n",
       "    .dataframe tbody tr th {\n",
       "        vertical-align: top;\n",
       "    }\n",
       "\n",
       "    .dataframe thead th {\n",
       "        text-align: right;\n",
       "    }\n",
       "</style>\n",
       "<table border=\"1\" class=\"dataframe\">\n",
       "  <thead>\n",
       "    <tr style=\"text-align: right;\">\n",
       "      <th></th>\n",
       "      <th>First Name</th>\n",
       "      <th>Last Name</th>\n",
       "      <th>Type</th>\n",
       "      <th>Department</th>\n",
       "      <th>YoE</th>\n",
       "      <th>Salary</th>\n",
       "    </tr>\n",
       "  </thead>\n",
       "  <tbody>\n",
       "    <tr>\n",
       "      <th>0</th>\n",
       "      <td>Aryan</td>\n",
       "      <td>Singh</td>\n",
       "      <td>Full-time Employee</td>\n",
       "      <td>Administration</td>\n",
       "      <td>2</td>\n",
       "      <td>20000</td>\n",
       "    </tr>\n",
       "    <tr>\n",
       "      <th>1</th>\n",
       "      <td>Rohan</td>\n",
       "      <td>Agarwal</td>\n",
       "      <td>Intern</td>\n",
       "      <td>Technical</td>\n",
       "      <td>3</td>\n",
       "      <td>5000</td>\n",
       "    </tr>\n",
       "    <tr>\n",
       "      <th>2</th>\n",
       "      <td>Riya</td>\n",
       "      <td>Shah</td>\n",
       "      <td>Full-time Employee</td>\n",
       "      <td>Administration</td>\n",
       "      <td>5</td>\n",
       "      <td>10000</td>\n",
       "    </tr>\n",
       "    <tr>\n",
       "      <th>3</th>\n",
       "      <td>Yash</td>\n",
       "      <td>Bhatia</td>\n",
       "      <td>Part-time Employee</td>\n",
       "      <td>Technical</td>\n",
       "      <td>7</td>\n",
       "      <td>10000</td>\n",
       "    </tr>\n",
       "    <tr>\n",
       "      <th>4</th>\n",
       "      <td>Siddhant</td>\n",
       "      <td>Khanna</td>\n",
       "      <td>Full-time Employee</td>\n",
       "      <td>Management</td>\n",
       "      <td>6</td>\n",
       "      <td>20000</td>\n",
       "    </tr>\n",
       "  </tbody>\n",
       "</table>\n",
       "</div>"
      ],
      "text/plain": [
       "  First Name Last Name                Type      Department  YoE  Salary\n",
       "0      Aryan     Singh  Full-time Employee  Administration    2   20000\n",
       "1      Rohan   Agarwal              Intern       Technical    3    5000\n",
       "2       Riya      Shah  Full-time Employee  Administration    5   10000\n",
       "3       Yash    Bhatia  Part-time Employee       Technical    7   10000\n",
       "4   Siddhant    Khanna  Full-time Employee      Management    6   20000"
      ]
     },
     "execution_count": 19,
     "metadata": {},
     "output_type": "execute_result"
    }
   ],
   "source": [
    "data = {\n",
    "    'First Name': ['Aryan', 'Rohan', 'Riya', 'Yash', 'Siddhant'],\n",
    "    'Last Name': ['Singh', 'Agarwal', 'Shah', 'Bhatia', 'Khanna'],\n",
    "    'Type': ['Full-time Employee', 'Intern', 'Full-time Employee', 'Part-time Employee', 'Full-time Employee'],\n",
    "    'Department': ['Administration', 'Technical', 'Administration', 'Technical', 'Management'],\n",
    "    'YoE': [2, 3, 5, 7, 6],\n",
    "    'Salary': [20000, 5000, 10000, 10000, 20000]\n",
    "}\n",
    "df = pd.DataFrame(data)\n",
    "df"
   ]
  },
  {
   "cell_type": "markdown",
   "id": "55b21904-7f97-4aa9-a263-e9d54c5fd7f7",
   "metadata": {},
   "source": [
    "#  3.Create two series as shown using pd.series() function \n",
    "#### Series_A=[10,20,30,40,50]Series_B=[40,50,60,70,80]"
   ]
  },
  {
   "cell_type": "code",
   "execution_count": 20,
   "id": "816000ac-b5f1-4f44-8c2e-e493bfce85d9",
   "metadata": {},
   "outputs": [],
   "source": [
    "A = pd.Series([10,20,30,40,50])\n",
    "B = pd.Series([40,50,60,70,80])\n"
   ]
  },
  {
   "cell_type": "markdown",
   "id": "624aae65-a2f2-4fb1-b4d4-c07910686a68",
   "metadata": {},
   "source": [
    "### (1).Get the itemes notcomman to both."
   ]
  },
  {
   "cell_type": "code",
   "execution_count": 21,
   "id": "94beb3e5-4fa0-4e6f-8351-7a1d62754691",
   "metadata": {},
   "outputs": [
    {
     "data": {
      "text/plain": [
       "2    60\n",
       "3    70\n",
       "4    80\n",
       "dtype: int64"
      ]
     },
     "execution_count": 21,
     "metadata": {},
     "output_type": "execute_result"
    }
   ],
   "source": [
    "A[~A.isin(B)]\n",
    "B[~B.isin(A)]"
   ]
  },
  {
   "cell_type": "markdown",
   "id": "f1ede401-6cd6-4073-9edb-91743c2f7689",
   "metadata": {},
   "source": [
    "### (2).Identify the smallest and largest element in the sereise A"
   ]
  },
  {
   "cell_type": "code",
   "execution_count": 22,
   "id": "91bebd78-998d-4af5-856c-79ade9c2ebf0",
   "metadata": {},
   "outputs": [
    {
     "name": "stdout",
     "output_type": "stream",
     "text": [
      "smallest and largest element in the sereise A\n"
     ]
    },
    {
     "data": {
      "text/plain": [
       "(None, 10, 50)"
      ]
     },
     "execution_count": 22,
     "metadata": {},
     "output_type": "execute_result"
    }
   ],
   "source": [
    "print(\"smallest and largest element in the sereise A\"),A.min(), A.max()"
   ]
  },
  {
   "cell_type": "markdown",
   "id": "7dc6bc61-1c8d-445d-9bf4-581f5b526acf",
   "metadata": {},
   "source": [
    "### (3). Find the sum of seriese B"
   ]
  },
  {
   "cell_type": "code",
   "execution_count": 23,
   "id": "ef36756d-88a1-44c4-b4c8-6d8064001e0e",
   "metadata": {},
   "outputs": [
    {
     "name": "stdout",
     "output_type": "stream",
     "text": [
      "sum of B\n"
     ]
    },
    {
     "data": {
      "text/plain": [
       "(None, 300)"
      ]
     },
     "execution_count": 23,
     "metadata": {},
     "output_type": "execute_result"
    }
   ],
   "source": [
    "print(\"sum of B\"),B.sum()"
   ]
  },
  {
   "cell_type": "markdown",
   "id": "0af9f064-d172-4c78-a687-b36e1c482b6a",
   "metadata": {},
   "source": [
    "### (4). Calculate average in the seriese A"
   ]
  },
  {
   "cell_type": "code",
   "execution_count": 24,
   "id": "556b40ec-8da5-4c8c-8041-07940523d60f",
   "metadata": {},
   "outputs": [
    {
     "name": "stdout",
     "output_type": "stream",
     "text": [
      "average of A\n"
     ]
    },
    {
     "data": {
      "text/plain": [
       "(None, 30.0)"
      ]
     },
     "execution_count": 24,
     "metadata": {},
     "output_type": "execute_result"
    }
   ],
   "source": [
    "print(\"average of A\"),A.mean()"
   ]
  },
  {
   "cell_type": "markdown",
   "id": "3884810c-faaf-4e9e-8e0c-4f5d801a25cc",
   "metadata": {},
   "source": [
    "### (5).Find median in the given series B"
   ]
  },
  {
   "cell_type": "code",
   "execution_count": 25,
   "id": "d3c8bb7c-6954-4e51-b231-52d7aaad1108",
   "metadata": {},
   "outputs": [
    {
     "name": "stdout",
     "output_type": "stream",
     "text": [
      "median of B\n"
     ]
    },
    {
     "data": {
      "text/plain": [
       "(None, 60.0)"
      ]
     },
     "execution_count": 25,
     "metadata": {},
     "output_type": "execute_result"
    }
   ],
   "source": [
    "print(\"median of B\"),B.median()"
   ]
  },
  {
   "cell_type": "markdown",
   "id": "c5ed46db-ca04-4a4f-ba91-a8af2734cdf8",
   "metadata": {},
   "source": [
    "# 3. Perform operation on car manufacturing company dataset auto-mpg.csv given below using pandas"
   ]
  },
  {
   "cell_type": "markdown",
   "id": "c9cc8c7b-b489-4fa4-b905-c040e46b1dd5",
   "metadata": {},
   "source": [
    "### a) Read data from an existing file"
   ]
  },
  {
   "cell_type": "code",
   "execution_count": 26,
   "id": "00464d57-9baf-497f-9fd7-fe179ca4ee0e",
   "metadata": {},
   "outputs": [
    {
     "data": {
      "text/html": [
       "<div>\n",
       "<style scoped>\n",
       "    .dataframe tbody tr th:only-of-type {\n",
       "        vertical-align: middle;\n",
       "    }\n",
       "\n",
       "    .dataframe tbody tr th {\n",
       "        vertical-align: top;\n",
       "    }\n",
       "\n",
       "    .dataframe thead th {\n",
       "        text-align: right;\n",
       "    }\n",
       "</style>\n",
       "<table border=\"1\" class=\"dataframe\">\n",
       "  <thead>\n",
       "    <tr style=\"text-align: right;\">\n",
       "      <th></th>\n",
       "      <th>mpg</th>\n",
       "      <th>cylinders</th>\n",
       "      <th>displacement</th>\n",
       "      <th>horsepower</th>\n",
       "      <th>weight</th>\n",
       "      <th>acceleration</th>\n",
       "      <th>model year</th>\n",
       "      <th>origin</th>\n",
       "      <th>car name</th>\n",
       "    </tr>\n",
       "  </thead>\n",
       "  <tbody>\n",
       "    <tr>\n",
       "      <th>0</th>\n",
       "      <td>18.0</td>\n",
       "      <td>8</td>\n",
       "      <td>307.0</td>\n",
       "      <td>130</td>\n",
       "      <td>3504</td>\n",
       "      <td>12.0</td>\n",
       "      <td>70</td>\n",
       "      <td>1</td>\n",
       "      <td>chevrolet chevelle malibu</td>\n",
       "    </tr>\n",
       "    <tr>\n",
       "      <th>1</th>\n",
       "      <td>15.0</td>\n",
       "      <td>8</td>\n",
       "      <td>350.0</td>\n",
       "      <td>165</td>\n",
       "      <td>3693</td>\n",
       "      <td>11.5</td>\n",
       "      <td>70</td>\n",
       "      <td>1</td>\n",
       "      <td>buick skylark 320</td>\n",
       "    </tr>\n",
       "    <tr>\n",
       "      <th>2</th>\n",
       "      <td>18.0</td>\n",
       "      <td>8</td>\n",
       "      <td>318.0</td>\n",
       "      <td>150</td>\n",
       "      <td>3436</td>\n",
       "      <td>11.0</td>\n",
       "      <td>70</td>\n",
       "      <td>1</td>\n",
       "      <td>plymouth satellite</td>\n",
       "    </tr>\n",
       "    <tr>\n",
       "      <th>3</th>\n",
       "      <td>16.0</td>\n",
       "      <td>8</td>\n",
       "      <td>304.0</td>\n",
       "      <td>150</td>\n",
       "      <td>3433</td>\n",
       "      <td>12.0</td>\n",
       "      <td>70</td>\n",
       "      <td>1</td>\n",
       "      <td>amc rebel sst</td>\n",
       "    </tr>\n",
       "    <tr>\n",
       "      <th>4</th>\n",
       "      <td>17.0</td>\n",
       "      <td>8</td>\n",
       "      <td>302.0</td>\n",
       "      <td>140</td>\n",
       "      <td>3449</td>\n",
       "      <td>10.5</td>\n",
       "      <td>70</td>\n",
       "      <td>1</td>\n",
       "      <td>ford torino</td>\n",
       "    </tr>\n",
       "    <tr>\n",
       "      <th>...</th>\n",
       "      <td>...</td>\n",
       "      <td>...</td>\n",
       "      <td>...</td>\n",
       "      <td>...</td>\n",
       "      <td>...</td>\n",
       "      <td>...</td>\n",
       "      <td>...</td>\n",
       "      <td>...</td>\n",
       "      <td>...</td>\n",
       "    </tr>\n",
       "    <tr>\n",
       "      <th>393</th>\n",
       "      <td>27.0</td>\n",
       "      <td>4</td>\n",
       "      <td>140.0</td>\n",
       "      <td>86</td>\n",
       "      <td>2790</td>\n",
       "      <td>15.6</td>\n",
       "      <td>82</td>\n",
       "      <td>1</td>\n",
       "      <td>ford mustang gl</td>\n",
       "    </tr>\n",
       "    <tr>\n",
       "      <th>394</th>\n",
       "      <td>44.0</td>\n",
       "      <td>4</td>\n",
       "      <td>97.0</td>\n",
       "      <td>52</td>\n",
       "      <td>2130</td>\n",
       "      <td>24.6</td>\n",
       "      <td>82</td>\n",
       "      <td>2</td>\n",
       "      <td>vw pickup</td>\n",
       "    </tr>\n",
       "    <tr>\n",
       "      <th>395</th>\n",
       "      <td>32.0</td>\n",
       "      <td>4</td>\n",
       "      <td>135.0</td>\n",
       "      <td>84</td>\n",
       "      <td>2295</td>\n",
       "      <td>11.6</td>\n",
       "      <td>82</td>\n",
       "      <td>1</td>\n",
       "      <td>dodge rampage</td>\n",
       "    </tr>\n",
       "    <tr>\n",
       "      <th>396</th>\n",
       "      <td>28.0</td>\n",
       "      <td>4</td>\n",
       "      <td>120.0</td>\n",
       "      <td>79</td>\n",
       "      <td>2625</td>\n",
       "      <td>18.6</td>\n",
       "      <td>82</td>\n",
       "      <td>1</td>\n",
       "      <td>ford ranger</td>\n",
       "    </tr>\n",
       "    <tr>\n",
       "      <th>397</th>\n",
       "      <td>31.0</td>\n",
       "      <td>4</td>\n",
       "      <td>119.0</td>\n",
       "      <td>82</td>\n",
       "      <td>2720</td>\n",
       "      <td>19.4</td>\n",
       "      <td>82</td>\n",
       "      <td>1</td>\n",
       "      <td>chevy s-10</td>\n",
       "    </tr>\n",
       "  </tbody>\n",
       "</table>\n",
       "<p>398 rows × 9 columns</p>\n",
       "</div>"
      ],
      "text/plain": [
       "      mpg  cylinders  displacement horsepower  weight  acceleration  \\\n",
       "0    18.0          8         307.0        130    3504          12.0   \n",
       "1    15.0          8         350.0        165    3693          11.5   \n",
       "2    18.0          8         318.0        150    3436          11.0   \n",
       "3    16.0          8         304.0        150    3433          12.0   \n",
       "4    17.0          8         302.0        140    3449          10.5   \n",
       "..    ...        ...           ...        ...     ...           ...   \n",
       "393  27.0          4         140.0         86    2790          15.6   \n",
       "394  44.0          4          97.0         52    2130          24.6   \n",
       "395  32.0          4         135.0         84    2295          11.6   \n",
       "396  28.0          4         120.0         79    2625          18.6   \n",
       "397  31.0          4         119.0         82    2720          19.4   \n",
       "\n",
       "     model year  origin                   car name  \n",
       "0            70       1  chevrolet chevelle malibu  \n",
       "1            70       1          buick skylark 320  \n",
       "2            70       1         plymouth satellite  \n",
       "3            70       1              amc rebel sst  \n",
       "4            70       1                ford torino  \n",
       "..          ...     ...                        ...  \n",
       "393          82       1            ford mustang gl  \n",
       "394          82       2                  vw pickup  \n",
       "395          82       1              dodge rampage  \n",
       "396          82       1                ford ranger  \n",
       "397          82       1                 chevy s-10  \n",
       "\n",
       "[398 rows x 9 columns]"
      ]
     },
     "execution_count": 26,
     "metadata": {},
     "output_type": "execute_result"
    }
   ],
   "source": [
    "import pandas as pd\n",
    "import numpy as np\n",
    "df=pd.read_csv(\"C:/Users/mehta/Downloads/auto-mpg.csv\")\n",
    "df"
   ]
  },
  {
   "cell_type": "markdown",
   "id": "e02d24bb-8d51-4479-be85-569abba1c174",
   "metadata": {},
   "source": [
    "### b) Statistical details of dataset"
   ]
  },
  {
   "cell_type": "code",
   "execution_count": 27,
   "id": "01fd03a8-20b0-4b96-b6d0-32a0eb58bd61",
   "metadata": {},
   "outputs": [
    {
     "data": {
      "text/html": [
       "<div>\n",
       "<style scoped>\n",
       "    .dataframe tbody tr th:only-of-type {\n",
       "        vertical-align: middle;\n",
       "    }\n",
       "\n",
       "    .dataframe tbody tr th {\n",
       "        vertical-align: top;\n",
       "    }\n",
       "\n",
       "    .dataframe thead th {\n",
       "        text-align: right;\n",
       "    }\n",
       "</style>\n",
       "<table border=\"1\" class=\"dataframe\">\n",
       "  <thead>\n",
       "    <tr style=\"text-align: right;\">\n",
       "      <th></th>\n",
       "      <th>mpg</th>\n",
       "      <th>cylinders</th>\n",
       "      <th>displacement</th>\n",
       "      <th>weight</th>\n",
       "      <th>acceleration</th>\n",
       "      <th>model year</th>\n",
       "      <th>origin</th>\n",
       "    </tr>\n",
       "  </thead>\n",
       "  <tbody>\n",
       "    <tr>\n",
       "      <th>count</th>\n",
       "      <td>398.000000</td>\n",
       "      <td>398.000000</td>\n",
       "      <td>398.000000</td>\n",
       "      <td>398.000000</td>\n",
       "      <td>398.000000</td>\n",
       "      <td>398.000000</td>\n",
       "      <td>398.000000</td>\n",
       "    </tr>\n",
       "    <tr>\n",
       "      <th>mean</th>\n",
       "      <td>23.514573</td>\n",
       "      <td>5.454774</td>\n",
       "      <td>193.425879</td>\n",
       "      <td>2970.424623</td>\n",
       "      <td>15.568090</td>\n",
       "      <td>76.010050</td>\n",
       "      <td>1.572864</td>\n",
       "    </tr>\n",
       "    <tr>\n",
       "      <th>std</th>\n",
       "      <td>7.815984</td>\n",
       "      <td>1.701004</td>\n",
       "      <td>104.269838</td>\n",
       "      <td>846.841774</td>\n",
       "      <td>2.757689</td>\n",
       "      <td>3.697627</td>\n",
       "      <td>0.802055</td>\n",
       "    </tr>\n",
       "    <tr>\n",
       "      <th>min</th>\n",
       "      <td>9.000000</td>\n",
       "      <td>3.000000</td>\n",
       "      <td>68.000000</td>\n",
       "      <td>1613.000000</td>\n",
       "      <td>8.000000</td>\n",
       "      <td>70.000000</td>\n",
       "      <td>1.000000</td>\n",
       "    </tr>\n",
       "    <tr>\n",
       "      <th>25%</th>\n",
       "      <td>17.500000</td>\n",
       "      <td>4.000000</td>\n",
       "      <td>104.250000</td>\n",
       "      <td>2223.750000</td>\n",
       "      <td>13.825000</td>\n",
       "      <td>73.000000</td>\n",
       "      <td>1.000000</td>\n",
       "    </tr>\n",
       "    <tr>\n",
       "      <th>50%</th>\n",
       "      <td>23.000000</td>\n",
       "      <td>4.000000</td>\n",
       "      <td>148.500000</td>\n",
       "      <td>2803.500000</td>\n",
       "      <td>15.500000</td>\n",
       "      <td>76.000000</td>\n",
       "      <td>1.000000</td>\n",
       "    </tr>\n",
       "    <tr>\n",
       "      <th>75%</th>\n",
       "      <td>29.000000</td>\n",
       "      <td>8.000000</td>\n",
       "      <td>262.000000</td>\n",
       "      <td>3608.000000</td>\n",
       "      <td>17.175000</td>\n",
       "      <td>79.000000</td>\n",
       "      <td>2.000000</td>\n",
       "    </tr>\n",
       "    <tr>\n",
       "      <th>max</th>\n",
       "      <td>46.600000</td>\n",
       "      <td>8.000000</td>\n",
       "      <td>455.000000</td>\n",
       "      <td>5140.000000</td>\n",
       "      <td>24.800000</td>\n",
       "      <td>82.000000</td>\n",
       "      <td>3.000000</td>\n",
       "    </tr>\n",
       "  </tbody>\n",
       "</table>\n",
       "</div>"
      ],
      "text/plain": [
       "              mpg   cylinders  displacement       weight  acceleration  \\\n",
       "count  398.000000  398.000000    398.000000   398.000000    398.000000   \n",
       "mean    23.514573    5.454774    193.425879  2970.424623     15.568090   \n",
       "std      7.815984    1.701004    104.269838   846.841774      2.757689   \n",
       "min      9.000000    3.000000     68.000000  1613.000000      8.000000   \n",
       "25%     17.500000    4.000000    104.250000  2223.750000     13.825000   \n",
       "50%     23.000000    4.000000    148.500000  2803.500000     15.500000   \n",
       "75%     29.000000    8.000000    262.000000  3608.000000     17.175000   \n",
       "max     46.600000    8.000000    455.000000  5140.000000     24.800000   \n",
       "\n",
       "       model year      origin  \n",
       "count  398.000000  398.000000  \n",
       "mean    76.010050    1.572864  \n",
       "std      3.697627    0.802055  \n",
       "min     70.000000    1.000000  \n",
       "25%     73.000000    1.000000  \n",
       "50%     76.000000    1.000000  \n",
       "75%     79.000000    2.000000  \n",
       "max     82.000000    3.000000  "
      ]
     },
     "execution_count": 27,
     "metadata": {},
     "output_type": "execute_result"
    }
   ],
   "source": [
    "df.describe()"
   ]
  },
  {
   "cell_type": "markdown",
   "id": "080d844c-ea92-4d2a-b9b5-0f1e6bdacbaa",
   "metadata": {},
   "source": [
    "### c) Get all cars with 8 cylinder's"
   ]
  },
  {
   "cell_type": "code",
   "execution_count": 28,
   "id": "ad4d1f89-e673-4139-a7d0-59d9dec7d784",
   "metadata": {},
   "outputs": [
    {
     "data": {
      "text/html": [
       "<div>\n",
       "<style scoped>\n",
       "    .dataframe tbody tr th:only-of-type {\n",
       "        vertical-align: middle;\n",
       "    }\n",
       "\n",
       "    .dataframe tbody tr th {\n",
       "        vertical-align: top;\n",
       "    }\n",
       "\n",
       "    .dataframe thead th {\n",
       "        text-align: right;\n",
       "    }\n",
       "</style>\n",
       "<table border=\"1\" class=\"dataframe\">\n",
       "  <thead>\n",
       "    <tr style=\"text-align: right;\">\n",
       "      <th></th>\n",
       "      <th>mpg</th>\n",
       "      <th>cylinders</th>\n",
       "      <th>displacement</th>\n",
       "      <th>horsepower</th>\n",
       "      <th>weight</th>\n",
       "      <th>acceleration</th>\n",
       "      <th>model year</th>\n",
       "      <th>origin</th>\n",
       "      <th>car name</th>\n",
       "    </tr>\n",
       "  </thead>\n",
       "  <tbody>\n",
       "    <tr>\n",
       "      <th>0</th>\n",
       "      <td>18.0</td>\n",
       "      <td>8</td>\n",
       "      <td>307.0</td>\n",
       "      <td>130</td>\n",
       "      <td>3504</td>\n",
       "      <td>12.0</td>\n",
       "      <td>70</td>\n",
       "      <td>1</td>\n",
       "      <td>chevrolet chevelle malibu</td>\n",
       "    </tr>\n",
       "    <tr>\n",
       "      <th>1</th>\n",
       "      <td>15.0</td>\n",
       "      <td>8</td>\n",
       "      <td>350.0</td>\n",
       "      <td>165</td>\n",
       "      <td>3693</td>\n",
       "      <td>11.5</td>\n",
       "      <td>70</td>\n",
       "      <td>1</td>\n",
       "      <td>buick skylark 320</td>\n",
       "    </tr>\n",
       "    <tr>\n",
       "      <th>2</th>\n",
       "      <td>18.0</td>\n",
       "      <td>8</td>\n",
       "      <td>318.0</td>\n",
       "      <td>150</td>\n",
       "      <td>3436</td>\n",
       "      <td>11.0</td>\n",
       "      <td>70</td>\n",
       "      <td>1</td>\n",
       "      <td>plymouth satellite</td>\n",
       "    </tr>\n",
       "    <tr>\n",
       "      <th>3</th>\n",
       "      <td>16.0</td>\n",
       "      <td>8</td>\n",
       "      <td>304.0</td>\n",
       "      <td>150</td>\n",
       "      <td>3433</td>\n",
       "      <td>12.0</td>\n",
       "      <td>70</td>\n",
       "      <td>1</td>\n",
       "      <td>amc rebel sst</td>\n",
       "    </tr>\n",
       "    <tr>\n",
       "      <th>4</th>\n",
       "      <td>17.0</td>\n",
       "      <td>8</td>\n",
       "      <td>302.0</td>\n",
       "      <td>140</td>\n",
       "      <td>3449</td>\n",
       "      <td>10.5</td>\n",
       "      <td>70</td>\n",
       "      <td>1</td>\n",
       "      <td>ford torino</td>\n",
       "    </tr>\n",
       "    <tr>\n",
       "      <th>...</th>\n",
       "      <td>...</td>\n",
       "      <td>...</td>\n",
       "      <td>...</td>\n",
       "      <td>...</td>\n",
       "      <td>...</td>\n",
       "      <td>...</td>\n",
       "      <td>...</td>\n",
       "      <td>...</td>\n",
       "      <td>...</td>\n",
       "    </tr>\n",
       "    <tr>\n",
       "      <th>291</th>\n",
       "      <td>19.2</td>\n",
       "      <td>8</td>\n",
       "      <td>267.0</td>\n",
       "      <td>125</td>\n",
       "      <td>3605</td>\n",
       "      <td>15.0</td>\n",
       "      <td>79</td>\n",
       "      <td>1</td>\n",
       "      <td>chevrolet malibu classic (sw)</td>\n",
       "    </tr>\n",
       "    <tr>\n",
       "      <th>292</th>\n",
       "      <td>18.5</td>\n",
       "      <td>8</td>\n",
       "      <td>360.0</td>\n",
       "      <td>150</td>\n",
       "      <td>3940</td>\n",
       "      <td>13.0</td>\n",
       "      <td>79</td>\n",
       "      <td>1</td>\n",
       "      <td>chrysler lebaron town @ country (sw)</td>\n",
       "    </tr>\n",
       "    <tr>\n",
       "      <th>298</th>\n",
       "      <td>23.0</td>\n",
       "      <td>8</td>\n",
       "      <td>350.0</td>\n",
       "      <td>125</td>\n",
       "      <td>3900</td>\n",
       "      <td>17.4</td>\n",
       "      <td>79</td>\n",
       "      <td>1</td>\n",
       "      <td>cadillac eldorado</td>\n",
       "    </tr>\n",
       "    <tr>\n",
       "      <th>300</th>\n",
       "      <td>23.9</td>\n",
       "      <td>8</td>\n",
       "      <td>260.0</td>\n",
       "      <td>90</td>\n",
       "      <td>3420</td>\n",
       "      <td>22.2</td>\n",
       "      <td>79</td>\n",
       "      <td>1</td>\n",
       "      <td>oldsmobile cutlass salon brougham</td>\n",
       "    </tr>\n",
       "    <tr>\n",
       "      <th>364</th>\n",
       "      <td>26.6</td>\n",
       "      <td>8</td>\n",
       "      <td>350.0</td>\n",
       "      <td>105</td>\n",
       "      <td>3725</td>\n",
       "      <td>19.0</td>\n",
       "      <td>81</td>\n",
       "      <td>1</td>\n",
       "      <td>oldsmobile cutlass ls</td>\n",
       "    </tr>\n",
       "  </tbody>\n",
       "</table>\n",
       "<p>103 rows × 9 columns</p>\n",
       "</div>"
      ],
      "text/plain": [
       "      mpg  cylinders  displacement horsepower  weight  acceleration  \\\n",
       "0    18.0          8         307.0        130    3504          12.0   \n",
       "1    15.0          8         350.0        165    3693          11.5   \n",
       "2    18.0          8         318.0        150    3436          11.0   \n",
       "3    16.0          8         304.0        150    3433          12.0   \n",
       "4    17.0          8         302.0        140    3449          10.5   \n",
       "..    ...        ...           ...        ...     ...           ...   \n",
       "291  19.2          8         267.0        125    3605          15.0   \n",
       "292  18.5          8         360.0        150    3940          13.0   \n",
       "298  23.0          8         350.0        125    3900          17.4   \n",
       "300  23.9          8         260.0         90    3420          22.2   \n",
       "364  26.6          8         350.0        105    3725          19.0   \n",
       "\n",
       "     model year  origin                              car name  \n",
       "0            70       1             chevrolet chevelle malibu  \n",
       "1            70       1                     buick skylark 320  \n",
       "2            70       1                    plymouth satellite  \n",
       "3            70       1                         amc rebel sst  \n",
       "4            70       1                           ford torino  \n",
       "..          ...     ...                                   ...  \n",
       "291          79       1         chevrolet malibu classic (sw)  \n",
       "292          79       1  chrysler lebaron town @ country (sw)  \n",
       "298          79       1                     cadillac eldorado  \n",
       "300          79       1     oldsmobile cutlass salon brougham  \n",
       "364          81       1                 oldsmobile cutlass ls  \n",
       "\n",
       "[103 rows x 9 columns]"
      ]
     },
     "execution_count": 28,
     "metadata": {},
     "output_type": "execute_result"
    }
   ],
   "source": [
    "df[df['cylinders']==8]"
   ]
  },
  {
   "cell_type": "markdown",
   "id": "e17a0527-d0e9-4448-a220-39f2df3126ca",
   "metadata": {},
   "source": [
    "### d) Get the number of cars manufactured in each year."
   ]
  },
  {
   "cell_type": "code",
   "execution_count": 29,
   "id": "b8b8085f-0846-4817-8368-a1f959adfccb",
   "metadata": {},
   "outputs": [
    {
     "data": {
      "text/plain": [
       "model year\n",
       "70    29\n",
       "71    28\n",
       "72    28\n",
       "73    40\n",
       "74    27\n",
       "75    30\n",
       "76    34\n",
       "77    28\n",
       "78    36\n",
       "79    29\n",
       "80    29\n",
       "81    29\n",
       "82    31\n",
       "dtype: int64"
      ]
     },
     "execution_count": 29,
     "metadata": {},
     "output_type": "execute_result"
    }
   ],
   "source": [
    "df.groupby('model year').size()"
   ]
  },
  {
   "cell_type": "markdown",
   "id": "f55932a6-0635-4058-91b2-be73bef21586",
   "metadata": {},
   "source": [
    "# 5. Lee decides to walk 10000 steps every day to combat the effect that lockdown has had on his body's agility, mobility, flexibility and strength. Consider the following data from fitness tracker over a period of 10days"
   ]
  },
  {
   "cell_type": "markdown",
   "id": "f7f109bb-a227-4cf0-8ac9-11113b39799d",
   "metadata": {},
   "source": [
    "### i) Represent the above data in a 10x2 array. In each row, the first element should contain day number"
   ]
  },
  {
   "cell_type": "code",
   "execution_count": 30,
   "id": "19b88269-eeb8-469c-a1c0-e01f5f15c623",
   "metadata": {},
   "outputs": [
    {
     "data": {
      "text/plain": [
       "array([[   1, 6012],\n",
       "       [   2, 4079],\n",
       "       [   3, 6386],\n",
       "       [   4, 5230],\n",
       "       [   5, 4598],\n",
       "       [   6, 5564],\n",
       "       [   7, 6971],\n",
       "       [   8, 7763],\n",
       "       [   9, 8032],\n",
       "       [  10, 8569]])"
      ]
     },
     "execution_count": 30,
     "metadata": {},
     "output_type": "execute_result"
    }
   ],
   "source": [
    "import numpy as np\n",
    "tracker = np.array([\n",
    "    [1, 6012], [2, 4079], [3, 6386], [4, 5230], [5, 4598],\n",
    "    [6, 5564], [7, 6971], [8, 7763], [9, 8032], [10, 8569]\n",
    "])\n",
    "tracker"
   ]
  },
  {
   "cell_type": "markdown",
   "id": "b742c714-da49-45bb-85ce-2b53f4afd27e",
   "metadata": {},
   "source": [
    "### ii) Lee notices that the tracker's battery dies every day at 7 pm. Lee discovers that on an average, he walks 2000 steps every day after 7 pm. Perform an appropriate"
   ]
  },
  {
   "cell_type": "code",
   "execution_count": 31,
   "id": "651f00cc-3eb0-48f2-8596-cc3294ed38fa",
   "metadata": {},
   "outputs": [
    {
     "data": {
      "text/plain": [
       "array([[   1, 4012],\n",
       "       [   2, 2079],\n",
       "       [   3, 4386],\n",
       "       [   4, 3230],\n",
       "       [   5, 2598],\n",
       "       [   6, 3564],\n",
       "       [   7, 4971],\n",
       "       [   8, 5763],\n",
       "       [   9, 6032],\n",
       "       [  10, 6569]])"
      ]
     },
     "execution_count": 31,
     "metadata": {},
     "output_type": "execute_result"
    }
   ],
   "source": [
    "tracker[:,1] = tracker[:,1] - 2000\n",
    "tracker"
   ]
  },
  {
   "cell_type": "markdown",
   "id": "01ecb6d9-b03f-48d2-89a6-9a780f8cef1a",
   "metadata": {},
   "source": [
    "### iii) Write a program that returns the steps walked if the steps walked are more than 9000."
   ]
  },
  {
   "cell_type": "code",
   "execution_count": 32,
   "id": "c2c2ddd9-1a8e-43a1-bdd9-aad87914e3b4",
   "metadata": {},
   "outputs": [
    {
     "data": {
      "text/plain": [
       "array([[   1, 4012],\n",
       "       [   2, 2079],\n",
       "       [   3, 4386],\n",
       "       [   4, 3230],\n",
       "       [   5, 2598],\n",
       "       [   6, 3564],\n",
       "       [   7, 4971],\n",
       "       [   8, 5763],\n",
       "       [   9, 6032],\n",
       "       [  10, 6569]])"
      ]
     },
     "execution_count": 32,
     "metadata": {},
     "output_type": "execute_result"
    }
   ],
   "source": [
    "tracker[tracker[:,1] > 9000]\n",
    "tracker"
   ]
  },
  {
   "cell_type": "markdown",
   "id": "09645186-4a54-4045-849e-6b9bc6ea12fe",
   "metadata": {},
   "source": [
    "### iv) Print an array containing steps walked in sorted order."
   ]
  },
  {
   "cell_type": "code",
   "execution_count": 33,
   "id": "45487166-e80d-4b8a-aa2b-9e694194fe9a",
   "metadata": {},
   "outputs": [
    {
     "data": {
      "text/plain": [
       "array([[   1, 4012],\n",
       "       [   2, 2079],\n",
       "       [   3, 4386],\n",
       "       [   4, 3230],\n",
       "       [   5, 2598],\n",
       "       [   6, 3564],\n",
       "       [   7, 4971],\n",
       "       [   8, 5763],\n",
       "       [   9, 6032],\n",
       "       [  10, 6569]])"
      ]
     },
     "execution_count": 33,
     "metadata": {},
     "output_type": "execute_result"
    }
   ],
   "source": [
    "np.sort(tracker[:,1])\n",
    "tracker"
   ]
  },
  {
   "cell_type": "markdown",
   "id": "25450e29-eb4a-4b0b-a097-da9093d55bbb",
   "metadata": {},
   "source": [
    "### v) Perform an appropriate operation to add 1000 steps to all the observations using pandas"
   ]
  },
  {
   "cell_type": "code",
   "execution_count": 34,
   "id": "74e1a5ac-c2e8-4b6b-88f0-2000be73721a",
   "metadata": {},
   "outputs": [
    {
     "data": {
      "text/html": [
       "<div>\n",
       "<style scoped>\n",
       "    .dataframe tbody tr th:only-of-type {\n",
       "        vertical-align: middle;\n",
       "    }\n",
       "\n",
       "    .dataframe tbody tr th {\n",
       "        vertical-align: top;\n",
       "    }\n",
       "\n",
       "    .dataframe thead th {\n",
       "        text-align: right;\n",
       "    }\n",
       "</style>\n",
       "<table border=\"1\" class=\"dataframe\">\n",
       "  <thead>\n",
       "    <tr style=\"text-align: right;\">\n",
       "      <th></th>\n",
       "      <th>Day</th>\n",
       "      <th>Steps</th>\n",
       "    </tr>\n",
       "  </thead>\n",
       "  <tbody>\n",
       "  </tbody>\n",
       "</table>\n",
       "</div>"
      ],
      "text/plain": [
       "Empty DataFrame\n",
       "Columns: [Day, Steps]\n",
       "Index: []"
      ]
     },
     "execution_count": 34,
     "metadata": {},
     "output_type": "execute_result"
    }
   ],
   "source": [
    "df = pd.DataFrame(tracker, columns=['Day', 'Steps'])\n",
    "df[df['Steps'] > 7000]"
   ]
  },
  {
   "cell_type": "markdown",
   "id": "b34b45be-6bdc-4c80-8b62-477b3f23c152",
   "metadata": {},
   "source": [
    "### vi) Find out the days on which he walked more than 7000 steps using pandas"
   ]
  },
  {
   "cell_type": "code",
   "execution_count": 35,
   "id": "b15af820-815f-4ca3-99c0-65dc90c386e0",
   "metadata": {},
   "outputs": [
    {
     "name": "stdout",
     "output_type": "stream",
     "text": [
      "Empty DataFrame\n",
      "Columns: [Day, Steps]\n",
      "Index: []\n"
     ]
    }
   ],
   "source": [
    "days_above_7000 = df[df['Steps'] > 7000]\n",
    "print(days_above_7000)"
   ]
  },
  {
   "cell_type": "markdown",
   "id": "a0fb2c7e-b1be-4939-8abc-831513dd450d",
   "metadata": {},
   "source": [
    "# Perform the following operations/write code snippet on car manufacturing company dataset \"auto-mgp.csv\" given below using pandas.\n",
    "### 1)Read data from a file"
   ]
  },
  {
   "cell_type": "code",
   "execution_count": 1,
   "id": "e2de14bf-6c91-4f89-810b-6a6f239597f1",
   "metadata": {},
   "outputs": [
    {
     "data": {
      "text/html": [
       "<div>\n",
       "<style scoped>\n",
       "    .dataframe tbody tr th:only-of-type {\n",
       "        vertical-align: middle;\n",
       "    }\n",
       "\n",
       "    .dataframe tbody tr th {\n",
       "        vertical-align: top;\n",
       "    }\n",
       "\n",
       "    .dataframe thead th {\n",
       "        text-align: right;\n",
       "    }\n",
       "</style>\n",
       "<table border=\"1\" class=\"dataframe\">\n",
       "  <thead>\n",
       "    <tr style=\"text-align: right;\">\n",
       "      <th></th>\n",
       "      <th>mpg</th>\n",
       "      <th>cylinders</th>\n",
       "      <th>displacement</th>\n",
       "      <th>horsepower</th>\n",
       "      <th>weight</th>\n",
       "      <th>acceleration</th>\n",
       "      <th>model year</th>\n",
       "      <th>origin</th>\n",
       "      <th>car name</th>\n",
       "    </tr>\n",
       "  </thead>\n",
       "  <tbody>\n",
       "    <tr>\n",
       "      <th>0</th>\n",
       "      <td>18.0</td>\n",
       "      <td>8</td>\n",
       "      <td>307.0</td>\n",
       "      <td>130</td>\n",
       "      <td>3504</td>\n",
       "      <td>12.0</td>\n",
       "      <td>70</td>\n",
       "      <td>1</td>\n",
       "      <td>chevrolet chevelle malibu</td>\n",
       "    </tr>\n",
       "    <tr>\n",
       "      <th>1</th>\n",
       "      <td>15.0</td>\n",
       "      <td>8</td>\n",
       "      <td>350.0</td>\n",
       "      <td>165</td>\n",
       "      <td>3693</td>\n",
       "      <td>11.5</td>\n",
       "      <td>70</td>\n",
       "      <td>1</td>\n",
       "      <td>buick skylark 320</td>\n",
       "    </tr>\n",
       "    <tr>\n",
       "      <th>2</th>\n",
       "      <td>18.0</td>\n",
       "      <td>8</td>\n",
       "      <td>318.0</td>\n",
       "      <td>150</td>\n",
       "      <td>3436</td>\n",
       "      <td>11.0</td>\n",
       "      <td>70</td>\n",
       "      <td>1</td>\n",
       "      <td>plymouth satellite</td>\n",
       "    </tr>\n",
       "    <tr>\n",
       "      <th>3</th>\n",
       "      <td>16.0</td>\n",
       "      <td>8</td>\n",
       "      <td>304.0</td>\n",
       "      <td>150</td>\n",
       "      <td>3433</td>\n",
       "      <td>12.0</td>\n",
       "      <td>70</td>\n",
       "      <td>1</td>\n",
       "      <td>amc rebel sst</td>\n",
       "    </tr>\n",
       "    <tr>\n",
       "      <th>4</th>\n",
       "      <td>17.0</td>\n",
       "      <td>8</td>\n",
       "      <td>302.0</td>\n",
       "      <td>140</td>\n",
       "      <td>3449</td>\n",
       "      <td>10.5</td>\n",
       "      <td>70</td>\n",
       "      <td>1</td>\n",
       "      <td>ford torino</td>\n",
       "    </tr>\n",
       "    <tr>\n",
       "      <th>...</th>\n",
       "      <td>...</td>\n",
       "      <td>...</td>\n",
       "      <td>...</td>\n",
       "      <td>...</td>\n",
       "      <td>...</td>\n",
       "      <td>...</td>\n",
       "      <td>...</td>\n",
       "      <td>...</td>\n",
       "      <td>...</td>\n",
       "    </tr>\n",
       "    <tr>\n",
       "      <th>393</th>\n",
       "      <td>27.0</td>\n",
       "      <td>4</td>\n",
       "      <td>140.0</td>\n",
       "      <td>86</td>\n",
       "      <td>2790</td>\n",
       "      <td>15.6</td>\n",
       "      <td>82</td>\n",
       "      <td>1</td>\n",
       "      <td>ford mustang gl</td>\n",
       "    </tr>\n",
       "    <tr>\n",
       "      <th>394</th>\n",
       "      <td>44.0</td>\n",
       "      <td>4</td>\n",
       "      <td>97.0</td>\n",
       "      <td>52</td>\n",
       "      <td>2130</td>\n",
       "      <td>24.6</td>\n",
       "      <td>82</td>\n",
       "      <td>2</td>\n",
       "      <td>vw pickup</td>\n",
       "    </tr>\n",
       "    <tr>\n",
       "      <th>395</th>\n",
       "      <td>32.0</td>\n",
       "      <td>4</td>\n",
       "      <td>135.0</td>\n",
       "      <td>84</td>\n",
       "      <td>2295</td>\n",
       "      <td>11.6</td>\n",
       "      <td>82</td>\n",
       "      <td>1</td>\n",
       "      <td>dodge rampage</td>\n",
       "    </tr>\n",
       "    <tr>\n",
       "      <th>396</th>\n",
       "      <td>28.0</td>\n",
       "      <td>4</td>\n",
       "      <td>120.0</td>\n",
       "      <td>79</td>\n",
       "      <td>2625</td>\n",
       "      <td>18.6</td>\n",
       "      <td>82</td>\n",
       "      <td>1</td>\n",
       "      <td>ford ranger</td>\n",
       "    </tr>\n",
       "    <tr>\n",
       "      <th>397</th>\n",
       "      <td>31.0</td>\n",
       "      <td>4</td>\n",
       "      <td>119.0</td>\n",
       "      <td>82</td>\n",
       "      <td>2720</td>\n",
       "      <td>19.4</td>\n",
       "      <td>82</td>\n",
       "      <td>1</td>\n",
       "      <td>chevy s-10</td>\n",
       "    </tr>\n",
       "  </tbody>\n",
       "</table>\n",
       "<p>398 rows × 9 columns</p>\n",
       "</div>"
      ],
      "text/plain": [
       "      mpg  cylinders  displacement horsepower  weight  acceleration  \\\n",
       "0    18.0          8         307.0        130    3504          12.0   \n",
       "1    15.0          8         350.0        165    3693          11.5   \n",
       "2    18.0          8         318.0        150    3436          11.0   \n",
       "3    16.0          8         304.0        150    3433          12.0   \n",
       "4    17.0          8         302.0        140    3449          10.5   \n",
       "..    ...        ...           ...        ...     ...           ...   \n",
       "393  27.0          4         140.0         86    2790          15.6   \n",
       "394  44.0          4          97.0         52    2130          24.6   \n",
       "395  32.0          4         135.0         84    2295          11.6   \n",
       "396  28.0          4         120.0         79    2625          18.6   \n",
       "397  31.0          4         119.0         82    2720          19.4   \n",
       "\n",
       "     model year  origin                   car name  \n",
       "0            70       1  chevrolet chevelle malibu  \n",
       "1            70       1          buick skylark 320  \n",
       "2            70       1         plymouth satellite  \n",
       "3            70       1              amc rebel sst  \n",
       "4            70       1                ford torino  \n",
       "..          ...     ...                        ...  \n",
       "393          82       1            ford mustang gl  \n",
       "394          82       2                  vw pickup  \n",
       "395          82       1              dodge rampage  \n",
       "396          82       1                ford ranger  \n",
       "397          82       1                 chevy s-10  \n",
       "\n",
       "[398 rows x 9 columns]"
      ]
     },
     "execution_count": 1,
     "metadata": {},
     "output_type": "execute_result"
    }
   ],
   "source": [
    "import pandas as pd\n",
    "df=pd.read_csv(\"C:/Users/mehta/AIML PRACTICES/DataSets/auto-mpg.csv\")\n",
    "df"
   ]
  },
  {
   "cell_type": "markdown",
   "id": "b92beb08-88bc-4703-a372-a1539d992322",
   "metadata": {},
   "source": [
    "### 2) Calculate mean value of \"horsepower\""
   ]
  },
  {
   "cell_type": "code",
   "execution_count": 2,
   "id": "d51260c7-8ae5-4b8f-b643-5ed3dd07a008",
   "metadata": {},
   "outputs": [
    {
     "name": "stdout",
     "output_type": "stream",
     "text": [
      "104.46938775510205\n"
     ]
    }
   ],
   "source": [
    "df['horsepower']=pd.to_numeric(df['horsepower'],errors='coerce')\n",
    "m=df['horsepower'].mean()\n",
    "print(m)"
   ]
  },
  {
   "cell_type": "code",
   "execution_count": 3,
   "id": "35254b7c-2626-4220-80b9-78b8c81be468",
   "metadata": {},
   "outputs": [],
   "source": [
    "\n",
    "t=df['horsepower'].mean()\n"
   ]
  },
  {
   "cell_type": "markdown",
   "id": "0e59a915-36c8-40d9-9e9e-a52df5fffdce",
   "metadata": {},
   "source": [
    "### 3) Calculate Standard Deviation value of \"acceleration\"."
   ]
  },
  {
   "cell_type": "code",
   "execution_count": 39,
   "id": "81df34be-002f-4bab-9d15-6641483a9b93",
   "metadata": {},
   "outputs": [
    {
     "data": {
      "text/plain": [
       "2.7576889298126757"
      ]
     },
     "execution_count": 39,
     "metadata": {},
     "output_type": "execute_result"
    }
   ],
   "source": [
    "df['acceleration'].std()"
   ]
  },
  {
   "cell_type": "markdown",
   "id": "181d9711-1d8d-4e6a-b20e-d6e26ed866f3",
   "metadata": {},
   "source": [
    "### 4) Get the number of cars manufactured in each year."
   ]
  },
  {
   "cell_type": "code",
   "execution_count": 49,
   "id": "52eea4fd-62e9-4bd9-96a9-4346d4fd5062",
   "metadata": {},
   "outputs": [
    {
     "data": {
      "text/plain": [
       "model year\n",
       "73    40\n",
       "78    36\n",
       "76    34\n",
       "82    31\n",
       "75    30\n",
       "70    29\n",
       "79    29\n",
       "80    29\n",
       "81    29\n",
       "71    28\n",
       "72    28\n",
       "77    28\n",
       "74    27\n",
       "Name: count, dtype: int64"
      ]
     },
     "execution_count": 49,
     "metadata": {},
     "output_type": "execute_result"
    }
   ],
   "source": [
    "#1\n",
    "c=df['model year'].value_counts()\n",
    "c"
   ]
  },
  {
   "cell_type": "code",
   "execution_count": 48,
   "id": "1bb58066-8904-4557-9ac1-69802a6cbab8",
   "metadata": {},
   "outputs": [
    {
     "data": {
      "text/plain": [
       "model year\n",
       "70    29\n",
       "71    28\n",
       "72    28\n",
       "73    40\n",
       "74    27\n",
       "75    30\n",
       "76    34\n",
       "77    28\n",
       "78    36\n",
       "79    29\n",
       "80    29\n",
       "81    29\n",
       "82    31\n",
       "dtype: int64"
      ]
     },
     "execution_count": 48,
     "metadata": {},
     "output_type": "execute_result"
    }
   ],
   "source": [
    "#2\n",
    "df.groupby('model year').size()"
   ]
  },
  {
   "cell_type": "markdown",
   "id": "46164221-300c-4a1a-9d95-b7d39d2ab6ce",
   "metadata": {},
   "source": [
    "# For the given dataset perform the following operations."
   ]
  },
  {
   "cell_type": "code",
   "execution_count": 6,
   "id": "101471ba-b0ee-408a-a437-aee5efa4b8db",
   "metadata": {},
   "outputs": [
    {
     "data": {
      "text/html": [
       "<div>\n",
       "<style scoped>\n",
       "    .dataframe tbody tr th:only-of-type {\n",
       "        vertical-align: middle;\n",
       "    }\n",
       "\n",
       "    .dataframe tbody tr th {\n",
       "        vertical-align: top;\n",
       "    }\n",
       "\n",
       "    .dataframe thead th {\n",
       "        text-align: right;\n",
       "    }\n",
       "</style>\n",
       "<table border=\"1\" class=\"dataframe\">\n",
       "  <thead>\n",
       "    <tr style=\"text-align: right;\">\n",
       "      <th></th>\n",
       "      <th>Number</th>\n",
       "      <th>Pencil</th>\n",
       "      <th>Text Books</th>\n",
       "      <th>Drawing Sheets</th>\n",
       "      <th>Total Units</th>\n",
       "      <th>Profits</th>\n",
       "    </tr>\n",
       "  </thead>\n",
       "  <tbody>\n",
       "    <tr>\n",
       "      <th>0</th>\n",
       "      <td>1</td>\n",
       "      <td>300</td>\n",
       "      <td>250</td>\n",
       "      <td>100</td>\n",
       "      <td>800</td>\n",
       "      <td>8000</td>\n",
       "    </tr>\n",
       "    <tr>\n",
       "      <th>1</th>\n",
       "      <td>2</td>\n",
       "      <td>350</td>\n",
       "      <td>350</td>\n",
       "      <td>200</td>\n",
       "      <td>1000</td>\n",
       "      <td>9500</td>\n",
       "    </tr>\n",
       "    <tr>\n",
       "      <th>2</th>\n",
       "      <td>3</td>\n",
       "      <td>400</td>\n",
       "      <td>400</td>\n",
       "      <td>200</td>\n",
       "      <td>1320</td>\n",
       "      <td>10256</td>\n",
       "    </tr>\n",
       "    <tr>\n",
       "      <th>3</th>\n",
       "      <td>4</td>\n",
       "      <td>500</td>\n",
       "      <td>420</td>\n",
       "      <td>250</td>\n",
       "      <td>1510</td>\n",
       "      <td>12000</td>\n",
       "    </tr>\n",
       "    <tr>\n",
       "      <th>4</th>\n",
       "      <td>5</td>\n",
       "      <td>520</td>\n",
       "      <td>500</td>\n",
       "      <td>300</td>\n",
       "      <td>2000</td>\n",
       "      <td>18000</td>\n",
       "    </tr>\n",
       "  </tbody>\n",
       "</table>\n",
       "</div>"
      ],
      "text/plain": [
       "   Number  Pencil  Text Books  Drawing Sheets  Total Units  Profits\n",
       "0       1     300         250             100          800     8000\n",
       "1       2     350         350             200         1000     9500\n",
       "2       3     400         400             200         1320    10256\n",
       "3       4     500         420             250         1510    12000\n",
       "4       5     520         500             300         2000    18000"
      ]
     },
     "execution_count": 6,
     "metadata": {},
     "output_type": "execute_result"
    }
   ],
   "source": [
    "import numpy as np\n",
    "import matplotlib.pyplot as plt\n",
    "data={\n",
    "      'Number':[1,2,3,4,5],\n",
    "      'Pencil':[300,350,400,500,520],\n",
    "      'Text Books':[250,350,400,420,500],\n",
    "      'Drawing Sheets':[100,200,200,250,300],\n",
    "      'Total Units':[800,1000,1320,1510,2000],\n",
    "      'Profits':[8000,9500,10256,12000,18000]\n",
    "   }\n",
    "df=pd.DataFrame(data)\n",
    "df"
   ]
  },
  {
   "cell_type": "markdown",
   "id": "d6f16a42-1527-4870-a3e4-7474ad72d32c",
   "metadata": {},
   "source": [
    "### 1) Check Statstical info of the data set."
   ]
  },
  {
   "cell_type": "code",
   "execution_count": 14,
   "id": "bdb4aa38-a6d4-4dc1-83e0-b7be3bd04cba",
   "metadata": {},
   "outputs": [
    {
     "data": {
      "text/html": [
       "<div>\n",
       "<style scoped>\n",
       "    .dataframe tbody tr th:only-of-type {\n",
       "        vertical-align: middle;\n",
       "    }\n",
       "\n",
       "    .dataframe tbody tr th {\n",
       "        vertical-align: top;\n",
       "    }\n",
       "\n",
       "    .dataframe thead th {\n",
       "        text-align: right;\n",
       "    }\n",
       "</style>\n",
       "<table border=\"1\" class=\"dataframe\">\n",
       "  <thead>\n",
       "    <tr style=\"text-align: right;\">\n",
       "      <th></th>\n",
       "      <th>Number</th>\n",
       "      <th>Pencil</th>\n",
       "      <th>Text Books</th>\n",
       "      <th>Drawing Sheets</th>\n",
       "      <th>Total Units</th>\n",
       "      <th>Profits</th>\n",
       "    </tr>\n",
       "  </thead>\n",
       "  <tbody>\n",
       "    <tr>\n",
       "      <th>count</th>\n",
       "      <td>5.000000</td>\n",
       "      <td>5.000000</td>\n",
       "      <td>5.000000</td>\n",
       "      <td>5.000000</td>\n",
       "      <td>5.000000</td>\n",
       "      <td>5.000000</td>\n",
       "    </tr>\n",
       "    <tr>\n",
       "      <th>mean</th>\n",
       "      <td>3.000000</td>\n",
       "      <td>414.000000</td>\n",
       "      <td>384.000000</td>\n",
       "      <td>210.000000</td>\n",
       "      <td>1326.000000</td>\n",
       "      <td>11551.200000</td>\n",
       "    </tr>\n",
       "    <tr>\n",
       "      <th>std</th>\n",
       "      <td>1.581139</td>\n",
       "      <td>94.762862</td>\n",
       "      <td>92.357999</td>\n",
       "      <td>74.161985</td>\n",
       "      <td>466.669048</td>\n",
       "      <td>3882.152393</td>\n",
       "    </tr>\n",
       "    <tr>\n",
       "      <th>min</th>\n",
       "      <td>1.000000</td>\n",
       "      <td>300.000000</td>\n",
       "      <td>250.000000</td>\n",
       "      <td>100.000000</td>\n",
       "      <td>800.000000</td>\n",
       "      <td>8000.000000</td>\n",
       "    </tr>\n",
       "    <tr>\n",
       "      <th>25%</th>\n",
       "      <td>2.000000</td>\n",
       "      <td>350.000000</td>\n",
       "      <td>350.000000</td>\n",
       "      <td>200.000000</td>\n",
       "      <td>1000.000000</td>\n",
       "      <td>9500.000000</td>\n",
       "    </tr>\n",
       "    <tr>\n",
       "      <th>50%</th>\n",
       "      <td>3.000000</td>\n",
       "      <td>400.000000</td>\n",
       "      <td>400.000000</td>\n",
       "      <td>200.000000</td>\n",
       "      <td>1320.000000</td>\n",
       "      <td>10256.000000</td>\n",
       "    </tr>\n",
       "    <tr>\n",
       "      <th>75%</th>\n",
       "      <td>4.000000</td>\n",
       "      <td>500.000000</td>\n",
       "      <td>420.000000</td>\n",
       "      <td>250.000000</td>\n",
       "      <td>1510.000000</td>\n",
       "      <td>12000.000000</td>\n",
       "    </tr>\n",
       "    <tr>\n",
       "      <th>max</th>\n",
       "      <td>5.000000</td>\n",
       "      <td>520.000000</td>\n",
       "      <td>500.000000</td>\n",
       "      <td>300.000000</td>\n",
       "      <td>2000.000000</td>\n",
       "      <td>18000.000000</td>\n",
       "    </tr>\n",
       "  </tbody>\n",
       "</table>\n",
       "</div>"
      ],
      "text/plain": [
       "         Number      Pencil  Text Books  Drawing Sheets  Total Units  \\\n",
       "count  5.000000    5.000000    5.000000        5.000000     5.000000   \n",
       "mean   3.000000  414.000000  384.000000      210.000000  1326.000000   \n",
       "std    1.581139   94.762862   92.357999       74.161985   466.669048   \n",
       "min    1.000000  300.000000  250.000000      100.000000   800.000000   \n",
       "25%    2.000000  350.000000  350.000000      200.000000  1000.000000   \n",
       "50%    3.000000  400.000000  400.000000      200.000000  1320.000000   \n",
       "75%    4.000000  500.000000  420.000000      250.000000  1510.000000   \n",
       "max    5.000000  520.000000  500.000000      300.000000  2000.000000   \n",
       "\n",
       "            Profits  \n",
       "count      5.000000  \n",
       "mean   11551.200000  \n",
       "std     3882.152393  \n",
       "min     8000.000000  \n",
       "25%     9500.000000  \n",
       "50%    10256.000000  \n",
       "75%    12000.000000  \n",
       "max    18000.000000  "
      ]
     },
     "execution_count": 14,
     "metadata": {},
     "output_type": "execute_result"
    }
   ],
   "source": [
    "df.describe()"
   ]
  },
  {
   "cell_type": "markdown",
   "id": "f8dd068a-bb7b-491c-b12d-92fe515cdd8f",
   "metadata": {},
   "source": [
    "### 2) Plot a line chart/plot showing total profit on y-axis and number column on x-axis."
   ]
  },
  {
   "cell_type": "code",
   "execution_count": 17,
   "id": "cf4f34e8-d698-497e-9d0f-2061710a1c4f",
   "metadata": {},
   "outputs": [
    {
     "data": {
      "image/png": "[encoded data removed]",
      "text/plain": [
       "<Figure size 640x480 with 1 Axes>"
      ]
     },
     "metadata": {},
     "output_type": "display_data"
    }
   ],
   "source": [
    "plt.plot(df['Number'],df['Profits'],color='red')\n",
    "plt.title('Total profit by product number')\n",
    "plt.xlabel(\"Product Number\")\n",
    "plt.ylabel(\"Total Profit\")\n",
    "plt.show()"
   ]
  },
  {
   "cell_type": "markdown",
   "id": "dbdf79cd-adec-46d6-b529-33195b123136",
   "metadata": {},
   "source": [
    "### 3) Find the misssing values."
   ]
  },
  {
   "cell_type": "code",
   "execution_count": 15,
   "id": "53429299-e02d-4831-a61f-ce14bf364e0f",
   "metadata": {},
   "outputs": [
    {
     "data": {
      "text/plain": [
       "Number            0\n",
       "Pencil            0\n",
       "Text Books        0\n",
       "Drawing Sheets    0\n",
       "Total Units       0\n",
       "Profits           0\n",
       "dtype: int64"
      ]
     },
     "execution_count": 15,
     "metadata": {},
     "output_type": "execute_result"
    }
   ],
   "source": [
    "df.isnull().sum()"
   ]
  },
  {
   "cell_type": "markdown",
   "id": "88337bba-ea18-4d2f-b4fa-4b70bd3dce25",
   "metadata": {},
   "source": [
    "### 4) Find the sum of total profit."
   ]
  },
  {
   "cell_type": "code",
   "execution_count": 54,
   "id": "ee8880b2-358c-40a7-a2e6-3149f45715ea",
   "metadata": {},
   "outputs": [
    {
     "data": {
      "text/plain": [
       "57756"
      ]
     },
     "execution_count": 54,
     "metadata": {},
     "output_type": "execute_result"
    }
   ],
   "source": [
    "df['Profits'].sum()"
   ]
  },
  {
   "cell_type": "markdown",
   "id": "06ae3014-85cb-42eb-8715-388c0cb5eb3b",
   "metadata": {},
   "source": [
    "### 4) Find the max value from drawing sheets column."
   ]
  },
  {
   "cell_type": "code",
   "execution_count": 55,
   "id": "a187d44c-07f7-4abd-871b-0fca3a4a136d",
   "metadata": {},
   "outputs": [
    {
     "data": {
      "text/plain": [
       "300"
      ]
     },
     "execution_count": 55,
     "metadata": {},
     "output_type": "execute_result"
    }
   ],
   "source": [
    "df['Drawing Sheets'].max()"
   ]
  },
  {
   "cell_type": "markdown",
   "id": "4cde1070-c84b-44c8-8f6d-66732e031807",
   "metadata": {},
   "source": [
    "# Write a Python code to explain map(),filter(),reduce(),lambda()."
   ]
  },
  {
   "cell_type": "markdown",
   "id": "1434e043-e044-452d-b182-31a390ea15da",
   "metadata": {},
   "source": [
    "### 1) Map()"
   ]
  },
  {
   "cell_type": "code",
   "execution_count": 1,
   "id": "5b21519c-5841-4093-a9a0-3dcee471dd69",
   "metadata": {},
   "outputs": [
    {
     "data": {
      "text/plain": [
       "[1, 4, 9, 16, 25, 36, 49]"
      ]
     },
     "execution_count": 1,
     "metadata": {},
     "output_type": "execute_result"
    }
   ],
   "source": [
    "def square(a):\n",
    "    return a**2\n",
    "l1=[1,2,3,4,5,6,7]\n",
    "list1=list(map(square,l1))\n",
    "list1"
   ]
  },
  {
   "cell_type": "markdown",
   "id": "21bd4d5d-0dcf-4e2f-88bb-833a467ed66a",
   "metadata": {},
   "source": [
    "### 2) Filter()"
   ]
  },
  {
   "cell_type": "code",
   "execution_count": 5,
   "id": "7ead87b4-60a0-43de-a734-b9bb1c08ff30",
   "metadata": {},
   "outputs": [
    {
     "name": "stdout",
     "output_type": "stream",
     "text": [
      "[2, 4, 6]\n"
     ]
    }
   ],
   "source": [
    "def even(x):\n",
    "    if x%2==0:\n",
    "        return True\n",
    "l1=[1,2,3,4,5,6,7]\n",
    "even1=list(filter(even,l1))\n",
    "print(even1)"
   ]
  },
  {
   "cell_type": "markdown",
   "id": "09e47ac6-a87d-4b56-8f74-fec5eefaa3f5",
   "metadata": {},
   "source": [
    "### 3) Reduce()"
   ]
  },
  {
   "cell_type": "code",
   "execution_count": 7,
   "id": "f8cdcea2-92ac-4ee2-9915-c36f2d9c1bf5",
   "metadata": {},
   "outputs": [
    {
     "data": {
      "text/plain": [
       "47"
      ]
     },
     "execution_count": 7,
     "metadata": {},
     "output_type": "execute_result"
    }
   ],
   "source": [
    "from functools import reduce\n",
    "def add(x,y):\n",
    "    return x+y\n",
    "l1=[1,2,3,4,5,6,8,7,4,5,2,]\n",
    "result=reduce(add,l1)\n",
    "result"
   ]
  },
  {
   "cell_type": "markdown",
   "id": "e5d0373b-edd2-4893-951d-04837ecf106b",
   "metadata": {},
   "source": [
    "### 4) Lambda()"
   ]
  },
  {
   "cell_type": "code",
   "execution_count": 14,
   "id": "7bfd994d-2547-46bd-a30c-347a586015fb",
   "metadata": {},
   "outputs": [
    {
     "data": {
      "text/plain": [
       "'odd number'"
      ]
     },
     "execution_count": 14,
     "metadata": {},
     "output_type": "execute_result"
    }
   ],
   "source": [
    "result=(lambda x: 'even number' if x%2==0  else 'odd number')\n",
    "result(7)"
   ]
  },
  {
   "cell_type": "code",
   "execution_count": 7,
   "id": "04e9996a-b893-4972-b3ad-c5572f2befd7",
   "metadata": {},
   "outputs": [
    {
     "data": {
      "text/plain": [
       "64"
      ]
     },
     "execution_count": 7,
     "metadata": {},
     "output_type": "execute_result"
    }
   ],
   "source": [
    "\n",
    "result=lambda x: x**2\n",
    "result(4)"
   ]
  },
  {
   "cell_type": "code",
   "execution_count": null,
   "id": "561ef3fa-3165-43ef-a8d6-c57ebfe5e5de",
   "metadata": {},
   "outputs": [],
   "source": []
  }
 ],
 "metadata": {
  "kernelspec": {
   "display_name": "Python 3 (ipykernel)",
   "language": "python",
   "name": "python3"
  },
  "language_info": {
   "codemirror_mode": {
    "name": "ipython",
    "version": 3
   },
   "file_extension": ".py",
   "mimetype": "text/x-python",
   "name": "python",
   "nbconvert_exporter": "python",
   "pygments_lexer": "ipython3",
   "version": "3.12.3"
  }
 },
 "nbformat": 4,
 "nbformat_minor": 5
}
