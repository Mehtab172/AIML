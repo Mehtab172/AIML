{
 "cells": [
  {
   "cell_type": "markdown",
   "id": "1bdd21b5-1843-478d-a638-fa51938c305a",
   "metadata": {},
   "source": [
    "# 1. Create the DataFrame"
   ]
  },
  {
   "cell_type": "code",
   "execution_count": 2,
   "id": "ab6fb029-2cb4-42e9-b29d-afd208ad382e",
   "metadata": {},
   "outputs": [
    {
     "data": {
      "text/html": [
       "<div>\n",
       "<style scoped>\n",
       "    .dataframe tbody tr th:only-of-type {\n",
       "        vertical-align: middle;\n",
       "    }\n",
       "\n",
       "    .dataframe tbody tr th {\n",
       "        vertical-align: top;\n",
       "    }\n",
       "\n",
       "    .dataframe thead th {\n",
       "        text-align: right;\n",
       "    }\n",
       "</style>\n",
       "<table border=\"1\" class=\"dataframe\">\n",
       "  <thead>\n",
       "    <tr style=\"text-align: right;\">\n",
       "      <th></th>\n",
       "      <th>Roll_NO</th>\n",
       "      <th>Name</th>\n",
       "      <th>Age</th>\n",
       "      <th>Marks_Math</th>\n",
       "      <th>Marks_Eng</th>\n",
       "      <th>Gender</th>\n",
       "    </tr>\n",
       "  </thead>\n",
       "  <tbody>\n",
       "    <tr>\n",
       "      <th>0</th>\n",
       "      <td>101</td>\n",
       "      <td>Riya</td>\n",
       "      <td>17</td>\n",
       "      <td>88</td>\n",
       "      <td>92</td>\n",
       "      <td>f</td>\n",
       "    </tr>\n",
       "    <tr>\n",
       "      <th>1</th>\n",
       "      <td>102</td>\n",
       "      <td>Arjun</td>\n",
       "      <td>18</td>\n",
       "      <td>75</td>\n",
       "      <td>85</td>\n",
       "      <td>m</td>\n",
       "    </tr>\n",
       "    <tr>\n",
       "      <th>2</th>\n",
       "      <td>103</td>\n",
       "      <td>Sneha</td>\n",
       "      <td>17</td>\n",
       "      <td>90</td>\n",
       "      <td>78</td>\n",
       "      <td>f</td>\n",
       "    </tr>\n",
       "    <tr>\n",
       "      <th>3</th>\n",
       "      <td>104</td>\n",
       "      <td>Rakesh</td>\n",
       "      <td>19</td>\n",
       "      <td>65</td>\n",
       "      <td>70</td>\n",
       "      <td>m</td>\n",
       "    </tr>\n",
       "    <tr>\n",
       "      <th>4</th>\n",
       "      <td>105</td>\n",
       "      <td>Aditi</td>\n",
       "      <td>18</td>\n",
       "      <td>95</td>\n",
       "      <td>88</td>\n",
       "      <td>f</td>\n",
       "    </tr>\n",
       "  </tbody>\n",
       "</table>\n",
       "</div>"
      ],
      "text/plain": [
       "   Roll_NO    Name  Age  Marks_Math  Marks_Eng Gender\n",
       "0      101    Riya   17          88         92      f\n",
       "1      102   Arjun   18          75         85      m\n",
       "2      103   Sneha   17          90         78      f\n",
       "3      104  Rakesh   19          65         70      m\n",
       "4      105   Aditi   18          95         88      f"
      ]
     },
     "execution_count": 2,
     "metadata": {},
     "output_type": "execute_result"
    }
   ],
   "source": [
    "import pandas as pd\n",
    "import matplotlib.pyplot as plt\n",
    "import numpy as np\n",
    "data={\n",
    "    'Roll_NO':[101,102,103,104,105],\n",
    "    'Name':['Riya','Arjun','Sneha','Rakesh','Aditi'],\n",
    "    'Age':[17,18,17,19,18],\n",
    "    'Marks_Math':[88,75,90,65,95],\n",
    "    'Marks_Eng':[92,85,78,70,88],\n",
    "    'Gender':['f','m','f','m','f']\n",
    "}\n",
    "df=pd.DataFrame(data)\n",
    "df"
   ]
  },
  {
   "cell_type": "markdown",
   "id": "67580775-92bf-4602-9b75-ce7335f2b03e",
   "metadata": {},
   "source": [
    "# 2. Display only the names and English marks of all students."
   ]
  },
  {
   "cell_type": "code",
   "execution_count": 8,
   "id": "e5078d01-c1e0-4a33-8703-ce14a83bd175",
   "metadata": {},
   "outputs": [
    {
     "data": {
      "text/plain": [
       "(0      Riya\n",
       " 1     Arjun\n",
       " 2     Sneha\n",
       " 3    Rakesh\n",
       " 4     Aditi\n",
       " Name: Name, dtype: object,\n",
       " 0    92\n",
       " 1    85\n",
       " 2    78\n",
       " 3    70\n",
       " 4    88\n",
       " Name: Marks_Eng, dtype: int64)"
      ]
     },
     "execution_count": 8,
     "metadata": {},
     "output_type": "execute_result"
    }
   ],
   "source": [
    "df['Name'],df['Marks_Eng']"
   ]
  },
  {
   "cell_type": "code",
   "execution_count": 9,
   "id": "1a3876e8-fbe1-46aa-b89c-9ad01d1bbeea",
   "metadata": {},
   "outputs": [
    {
     "data": {
      "text/html": [
       "<div>\n",
       "<style scoped>\n",
       "    .dataframe tbody tr th:only-of-type {\n",
       "        vertical-align: middle;\n",
       "    }\n",
       "\n",
       "    .dataframe tbody tr th {\n",
       "        vertical-align: top;\n",
       "    }\n",
       "\n",
       "    .dataframe thead th {\n",
       "        text-align: right;\n",
       "    }\n",
       "</style>\n",
       "<table border=\"1\" class=\"dataframe\">\n",
       "  <thead>\n",
       "    <tr style=\"text-align: right;\">\n",
       "      <th></th>\n",
       "      <th>Name</th>\n",
       "      <th>Marks_Eng</th>\n",
       "    </tr>\n",
       "  </thead>\n",
       "  <tbody>\n",
       "    <tr>\n",
       "      <th>0</th>\n",
       "      <td>Riya</td>\n",
       "      <td>92</td>\n",
       "    </tr>\n",
       "    <tr>\n",
       "      <th>1</th>\n",
       "      <td>Arjun</td>\n",
       "      <td>85</td>\n",
       "    </tr>\n",
       "    <tr>\n",
       "      <th>2</th>\n",
       "      <td>Sneha</td>\n",
       "      <td>78</td>\n",
       "    </tr>\n",
       "    <tr>\n",
       "      <th>3</th>\n",
       "      <td>Rakesh</td>\n",
       "      <td>70</td>\n",
       "    </tr>\n",
       "    <tr>\n",
       "      <th>4</th>\n",
       "      <td>Aditi</td>\n",
       "      <td>88</td>\n",
       "    </tr>\n",
       "  </tbody>\n",
       "</table>\n",
       "</div>"
      ],
      "text/plain": [
       "     Name  Marks_Eng\n",
       "0    Riya         92\n",
       "1   Arjun         85\n",
       "2   Sneha         78\n",
       "3  Rakesh         70\n",
       "4   Aditi         88"
      ]
     },
     "execution_count": 9,
     "metadata": {},
     "output_type": "execute_result"
    }
   ],
   "source": [
    "df[['Name','Marks_Eng']]"
   ]
  },
  {
   "cell_type": "markdown",
   "id": "2010f55d-3a48-49ed-80cd-3083ec86851e",
   "metadata": {},
   "source": [
    "# 3. Add a new column “Total_Marks” as the sum of Marks_Math and Marks_Eng."
   ]
  },
  {
   "cell_type": "code",
   "execution_count": 11,
   "id": "f8dbe2e7-4ee2-4666-8e9a-436bd9b10c8c",
   "metadata": {},
   "outputs": [
    {
     "data": {
      "text/html": [
       "<div>\n",
       "<style scoped>\n",
       "    .dataframe tbody tr th:only-of-type {\n",
       "        vertical-align: middle;\n",
       "    }\n",
       "\n",
       "    .dataframe tbody tr th {\n",
       "        vertical-align: top;\n",
       "    }\n",
       "\n",
       "    .dataframe thead th {\n",
       "        text-align: right;\n",
       "    }\n",
       "</style>\n",
       "<table border=\"1\" class=\"dataframe\">\n",
       "  <thead>\n",
       "    <tr style=\"text-align: right;\">\n",
       "      <th></th>\n",
       "      <th>Roll_NO</th>\n",
       "      <th>Name</th>\n",
       "      <th>Age</th>\n",
       "      <th>Marks_Math</th>\n",
       "      <th>Marks_Eng</th>\n",
       "      <th>Gender</th>\n",
       "      <th>Total_Marks</th>\n",
       "    </tr>\n",
       "  </thead>\n",
       "  <tbody>\n",
       "    <tr>\n",
       "      <th>0</th>\n",
       "      <td>101</td>\n",
       "      <td>Riya</td>\n",
       "      <td>17</td>\n",
       "      <td>88</td>\n",
       "      <td>92</td>\n",
       "      <td>f</td>\n",
       "      <td>180</td>\n",
       "    </tr>\n",
       "    <tr>\n",
       "      <th>1</th>\n",
       "      <td>102</td>\n",
       "      <td>Arjun</td>\n",
       "      <td>18</td>\n",
       "      <td>75</td>\n",
       "      <td>85</td>\n",
       "      <td>m</td>\n",
       "      <td>160</td>\n",
       "    </tr>\n",
       "    <tr>\n",
       "      <th>2</th>\n",
       "      <td>103</td>\n",
       "      <td>Sneha</td>\n",
       "      <td>17</td>\n",
       "      <td>90</td>\n",
       "      <td>78</td>\n",
       "      <td>f</td>\n",
       "      <td>168</td>\n",
       "    </tr>\n",
       "    <tr>\n",
       "      <th>3</th>\n",
       "      <td>104</td>\n",
       "      <td>Rakesh</td>\n",
       "      <td>19</td>\n",
       "      <td>65</td>\n",
       "      <td>70</td>\n",
       "      <td>m</td>\n",
       "      <td>135</td>\n",
       "    </tr>\n",
       "    <tr>\n",
       "      <th>4</th>\n",
       "      <td>105</td>\n",
       "      <td>Aditi</td>\n",
       "      <td>18</td>\n",
       "      <td>95</td>\n",
       "      <td>88</td>\n",
       "      <td>f</td>\n",
       "      <td>183</td>\n",
       "    </tr>\n",
       "  </tbody>\n",
       "</table>\n",
       "</div>"
      ],
      "text/plain": [
       "   Roll_NO    Name  Age  Marks_Math  Marks_Eng Gender  Total_Marks\n",
       "0      101    Riya   17          88         92      f          180\n",
       "1      102   Arjun   18          75         85      m          160\n",
       "2      103   Sneha   17          90         78      f          168\n",
       "3      104  Rakesh   19          65         70      m          135\n",
       "4      105   Aditi   18          95         88      f          183"
      ]
     },
     "execution_count": 11,
     "metadata": {},
     "output_type": "execute_result"
    }
   ],
   "source": [
    "df['Total_Marks']=df[['Marks_Math','Marks_Eng']].sum(axis=1)\n",
    "df"
   ]
  },
  {
   "cell_type": "markdown",
   "id": "01e8a912-c1cc-46ab-8b5e-36eabf5ab606",
   "metadata": {},
   "source": [
    "# 4.Find the average marks in Math using a Pandas function."
   ]
  },
  {
   "cell_type": "code",
   "execution_count": 44,
   "id": "29d4153f-3788-4bb3-8fc3-ef0affc49b48",
   "metadata": {},
   "outputs": [
    {
     "data": {
      "text/plain": [
       "82.6"
      ]
     },
     "execution_count": 44,
     "metadata": {},
     "output_type": "execute_result"
    }
   ],
   "source": [
    "df['Marks_Math'].mean()"
   ]
  },
  {
   "cell_type": "markdown",
   "id": "80c6f9a4-3a14-47ab-be88-43f9043d9383",
   "metadata": {},
   "source": [
    "# 5.Display the records of all female students."
   ]
  },
  {
   "cell_type": "code",
   "execution_count": 45,
   "id": "4933f5f3-d941-4f8d-a2cb-3af2795203be",
   "metadata": {},
   "outputs": [
    {
     "data": {
      "text/html": [
       "<div>\n",
       "<style scoped>\n",
       "    .dataframe tbody tr th:only-of-type {\n",
       "        vertical-align: middle;\n",
       "    }\n",
       "\n",
       "    .dataframe tbody tr th {\n",
       "        vertical-align: top;\n",
       "    }\n",
       "\n",
       "    .dataframe thead th {\n",
       "        text-align: right;\n",
       "    }\n",
       "</style>\n",
       "<table border=\"1\" class=\"dataframe\">\n",
       "  <thead>\n",
       "    <tr style=\"text-align: right;\">\n",
       "      <th></th>\n",
       "      <th>Roll_NO</th>\n",
       "      <th>Name</th>\n",
       "      <th>Age</th>\n",
       "      <th>Marks_Math</th>\n",
       "      <th>Marks_Eng</th>\n",
       "      <th>Gender</th>\n",
       "      <th>Total_Marks</th>\n",
       "    </tr>\n",
       "  </thead>\n",
       "  <tbody>\n",
       "    <tr>\n",
       "      <th>0</th>\n",
       "      <td>101</td>\n",
       "      <td>Riya</td>\n",
       "      <td>17</td>\n",
       "      <td>88</td>\n",
       "      <td>92</td>\n",
       "      <td>f</td>\n",
       "      <td>180</td>\n",
       "    </tr>\n",
       "    <tr>\n",
       "      <th>2</th>\n",
       "      <td>103</td>\n",
       "      <td>Sneha</td>\n",
       "      <td>17</td>\n",
       "      <td>90</td>\n",
       "      <td>78</td>\n",
       "      <td>f</td>\n",
       "      <td>168</td>\n",
       "    </tr>\n",
       "    <tr>\n",
       "      <th>4</th>\n",
       "      <td>105</td>\n",
       "      <td>Aditi</td>\n",
       "      <td>18</td>\n",
       "      <td>95</td>\n",
       "      <td>88</td>\n",
       "      <td>f</td>\n",
       "      <td>183</td>\n",
       "    </tr>\n",
       "  </tbody>\n",
       "</table>\n",
       "</div>"
      ],
      "text/plain": [
       "   Roll_NO   Name  Age  Marks_Math  Marks_Eng Gender  Total_Marks\n",
       "0      101   Riya   17          88         92      f          180\n",
       "2      103  Sneha   17          90         78      f          168\n",
       "4      105  Aditi   18          95         88      f          183"
      ]
     },
     "execution_count": 45,
     "metadata": {},
     "output_type": "execute_result"
    }
   ],
   "source": [
    "df[df[\"Gender\"] == 'f']"
   ]
  },
  {
   "cell_type": "markdown",
   "id": "1f90b056-4504-4cb5-a9f6-e464a0cbfb88",
   "metadata": {},
   "source": [
    "# 6. Sort the DataFrame by Marks_Eng in descending order.\n"
   ]
  },
  {
   "cell_type": "code",
   "execution_count": 46,
   "id": "9c0233c5-e80d-484f-98fc-f098261ecb94",
   "metadata": {},
   "outputs": [
    {
     "data": {
      "text/html": [
       "<div>\n",
       "<style scoped>\n",
       "    .dataframe tbody tr th:only-of-type {\n",
       "        vertical-align: middle;\n",
       "    }\n",
       "\n",
       "    .dataframe tbody tr th {\n",
       "        vertical-align: top;\n",
       "    }\n",
       "\n",
       "    .dataframe thead th {\n",
       "        text-align: right;\n",
       "    }\n",
       "</style>\n",
       "<table border=\"1\" class=\"dataframe\">\n",
       "  <thead>\n",
       "    <tr style=\"text-align: right;\">\n",
       "      <th></th>\n",
       "      <th>Roll_NO</th>\n",
       "      <th>Name</th>\n",
       "      <th>Age</th>\n",
       "      <th>Marks_Math</th>\n",
       "      <th>Marks_Eng</th>\n",
       "      <th>Gender</th>\n",
       "      <th>Total_Marks</th>\n",
       "    </tr>\n",
       "  </thead>\n",
       "  <tbody>\n",
       "    <tr>\n",
       "      <th>0</th>\n",
       "      <td>101</td>\n",
       "      <td>Riya</td>\n",
       "      <td>17</td>\n",
       "      <td>88</td>\n",
       "      <td>92</td>\n",
       "      <td>f</td>\n",
       "      <td>180</td>\n",
       "    </tr>\n",
       "    <tr>\n",
       "      <th>4</th>\n",
       "      <td>105</td>\n",
       "      <td>Aditi</td>\n",
       "      <td>18</td>\n",
       "      <td>95</td>\n",
       "      <td>88</td>\n",
       "      <td>f</td>\n",
       "      <td>183</td>\n",
       "    </tr>\n",
       "    <tr>\n",
       "      <th>1</th>\n",
       "      <td>102</td>\n",
       "      <td>Arjun</td>\n",
       "      <td>18</td>\n",
       "      <td>75</td>\n",
       "      <td>85</td>\n",
       "      <td>m</td>\n",
       "      <td>160</td>\n",
       "    </tr>\n",
       "    <tr>\n",
       "      <th>2</th>\n",
       "      <td>103</td>\n",
       "      <td>Sneha</td>\n",
       "      <td>17</td>\n",
       "      <td>90</td>\n",
       "      <td>78</td>\n",
       "      <td>f</td>\n",
       "      <td>168</td>\n",
       "    </tr>\n",
       "    <tr>\n",
       "      <th>3</th>\n",
       "      <td>104</td>\n",
       "      <td>Rakesh</td>\n",
       "      <td>19</td>\n",
       "      <td>65</td>\n",
       "      <td>70</td>\n",
       "      <td>m</td>\n",
       "      <td>135</td>\n",
       "    </tr>\n",
       "  </tbody>\n",
       "</table>\n",
       "</div>"
      ],
      "text/plain": [
       "   Roll_NO    Name  Age  Marks_Math  Marks_Eng Gender  Total_Marks\n",
       "0      101    Riya   17          88         92      f          180\n",
       "4      105   Aditi   18          95         88      f          183\n",
       "1      102   Arjun   18          75         85      m          160\n",
       "2      103   Sneha   17          90         78      f          168\n",
       "3      104  Rakesh   19          65         70      m          135"
      ]
     },
     "execution_count": 46,
     "metadata": {},
     "output_type": "execute_result"
    }
   ],
   "source": [
    "df.sort_values(by = 'Marks_Eng',ascending = False)"
   ]
  },
  {
   "cell_type": "markdown",
   "id": "0cbcb3b1-0659-4230-a103-2c83b4518652",
   "metadata": {},
   "source": [
    "# 7. Replace gender values: “F” → “Female”, “M” → “Male” using .map()."
   ]
  },
  {
   "cell_type": "code",
   "execution_count": 47,
   "id": "6d9270f6-096a-449a-a578-1a5d1fd95673",
   "metadata": {},
   "outputs": [
    {
     "data": {
      "text/html": [
       "<div>\n",
       "<style scoped>\n",
       "    .dataframe tbody tr th:only-of-type {\n",
       "        vertical-align: middle;\n",
       "    }\n",
       "\n",
       "    .dataframe tbody tr th {\n",
       "        vertical-align: top;\n",
       "    }\n",
       "\n",
       "    .dataframe thead th {\n",
       "        text-align: right;\n",
       "    }\n",
       "</style>\n",
       "<table border=\"1\" class=\"dataframe\">\n",
       "  <thead>\n",
       "    <tr style=\"text-align: right;\">\n",
       "      <th></th>\n",
       "      <th>Roll_NO</th>\n",
       "      <th>Name</th>\n",
       "      <th>Age</th>\n",
       "      <th>Marks_Math</th>\n",
       "      <th>Marks_Eng</th>\n",
       "      <th>Gender</th>\n",
       "      <th>Total_Marks</th>\n",
       "    </tr>\n",
       "  </thead>\n",
       "  <tbody>\n",
       "    <tr>\n",
       "      <th>0</th>\n",
       "      <td>101</td>\n",
       "      <td>Riya</td>\n",
       "      <td>17</td>\n",
       "      <td>88</td>\n",
       "      <td>92</td>\n",
       "      <td>Female</td>\n",
       "      <td>180</td>\n",
       "    </tr>\n",
       "    <tr>\n",
       "      <th>1</th>\n",
       "      <td>102</td>\n",
       "      <td>Arjun</td>\n",
       "      <td>18</td>\n",
       "      <td>75</td>\n",
       "      <td>85</td>\n",
       "      <td>Male</td>\n",
       "      <td>160</td>\n",
       "    </tr>\n",
       "    <tr>\n",
       "      <th>2</th>\n",
       "      <td>103</td>\n",
       "      <td>Sneha</td>\n",
       "      <td>17</td>\n",
       "      <td>90</td>\n",
       "      <td>78</td>\n",
       "      <td>Female</td>\n",
       "      <td>168</td>\n",
       "    </tr>\n",
       "    <tr>\n",
       "      <th>3</th>\n",
       "      <td>104</td>\n",
       "      <td>Rakesh</td>\n",
       "      <td>19</td>\n",
       "      <td>65</td>\n",
       "      <td>70</td>\n",
       "      <td>Male</td>\n",
       "      <td>135</td>\n",
       "    </tr>\n",
       "    <tr>\n",
       "      <th>4</th>\n",
       "      <td>105</td>\n",
       "      <td>Aditi</td>\n",
       "      <td>18</td>\n",
       "      <td>95</td>\n",
       "      <td>88</td>\n",
       "      <td>Female</td>\n",
       "      <td>183</td>\n",
       "    </tr>\n",
       "  </tbody>\n",
       "</table>\n",
       "</div>"
      ],
      "text/plain": [
       "   Roll_NO    Name  Age  Marks_Math  Marks_Eng  Gender  Total_Marks\n",
       "0      101    Riya   17          88         92  Female          180\n",
       "1      102   Arjun   18          75         85    Male          160\n",
       "2      103   Sneha   17          90         78  Female          168\n",
       "3      104  Rakesh   19          65         70    Male          135\n",
       "4      105   Aditi   18          95         88  Female          183"
      ]
     },
     "execution_count": 47,
     "metadata": {},
     "output_type": "execute_result"
    }
   ],
   "source": [
    "df['Gender']=df['Gender'].str.upper().map({'F':'Female','M':'Male'})\n",
    "df"
   ]
  },
  {
   "cell_type": "markdown",
   "id": "517a2a7c-6b16-4001-87a9-9a49e3ad2f90",
   "metadata": {},
   "source": [
    "# Add a new column Result with value “Pass” if Total_Marks >= 150, else “Fail” (using apply() with lambda)."
   ]
  },
  {
   "cell_type": "code",
   "execution_count": 48,
   "id": "4aef972f-d9de-4fd9-84d1-81e0bef935bc",
   "metadata": {},
   "outputs": [
    {
     "data": {
      "text/html": [
       "<div>\n",
       "<style scoped>\n",
       "    .dataframe tbody tr th:only-of-type {\n",
       "        vertical-align: middle;\n",
       "    }\n",
       "\n",
       "    .dataframe tbody tr th {\n",
       "        vertical-align: top;\n",
       "    }\n",
       "\n",
       "    .dataframe thead th {\n",
       "        text-align: right;\n",
       "    }\n",
       "</style>\n",
       "<table border=\"1\" class=\"dataframe\">\n",
       "  <thead>\n",
       "    <tr style=\"text-align: right;\">\n",
       "      <th></th>\n",
       "      <th>Roll_NO</th>\n",
       "      <th>Name</th>\n",
       "      <th>Age</th>\n",
       "      <th>Marks_Math</th>\n",
       "      <th>Marks_Eng</th>\n",
       "      <th>Gender</th>\n",
       "      <th>Total_Marks</th>\n",
       "      <th>Result</th>\n",
       "    </tr>\n",
       "  </thead>\n",
       "  <tbody>\n",
       "    <tr>\n",
       "      <th>0</th>\n",
       "      <td>101</td>\n",
       "      <td>Riya</td>\n",
       "      <td>17</td>\n",
       "      <td>88</td>\n",
       "      <td>92</td>\n",
       "      <td>Female</td>\n",
       "      <td>180</td>\n",
       "      <td>pass</td>\n",
       "    </tr>\n",
       "    <tr>\n",
       "      <th>1</th>\n",
       "      <td>102</td>\n",
       "      <td>Arjun</td>\n",
       "      <td>18</td>\n",
       "      <td>75</td>\n",
       "      <td>85</td>\n",
       "      <td>Male</td>\n",
       "      <td>160</td>\n",
       "      <td>pass</td>\n",
       "    </tr>\n",
       "    <tr>\n",
       "      <th>2</th>\n",
       "      <td>103</td>\n",
       "      <td>Sneha</td>\n",
       "      <td>17</td>\n",
       "      <td>90</td>\n",
       "      <td>78</td>\n",
       "      <td>Female</td>\n",
       "      <td>168</td>\n",
       "      <td>pass</td>\n",
       "    </tr>\n",
       "    <tr>\n",
       "      <th>3</th>\n",
       "      <td>104</td>\n",
       "      <td>Rakesh</td>\n",
       "      <td>19</td>\n",
       "      <td>65</td>\n",
       "      <td>70</td>\n",
       "      <td>Male</td>\n",
       "      <td>135</td>\n",
       "      <td>fail</td>\n",
       "    </tr>\n",
       "    <tr>\n",
       "      <th>4</th>\n",
       "      <td>105</td>\n",
       "      <td>Aditi</td>\n",
       "      <td>18</td>\n",
       "      <td>95</td>\n",
       "      <td>88</td>\n",
       "      <td>Female</td>\n",
       "      <td>183</td>\n",
       "      <td>pass</td>\n",
       "    </tr>\n",
       "  </tbody>\n",
       "</table>\n",
       "</div>"
      ],
      "text/plain": [
       "   Roll_NO    Name  Age  Marks_Math  Marks_Eng  Gender  Total_Marks Result\n",
       "0      101    Riya   17          88         92  Female          180   pass\n",
       "1      102   Arjun   18          75         85    Male          160   pass\n",
       "2      103   Sneha   17          90         78  Female          168   pass\n",
       "3      104  Rakesh   19          65         70    Male          135   fail\n",
       "4      105   Aditi   18          95         88  Female          183   pass"
      ]
     },
     "execution_count": 48,
     "metadata": {},
     "output_type": "execute_result"
    }
   ],
   "source": [
    "df['Result']= df['Total_Marks'].apply(lambda x:'pass' if x>=150 else 'fail' )\n",
    "df"
   ]
  },
  {
   "cell_type": "markdown",
   "id": "dd264bf4-4e78-4723-ad0b-7a02f1a12cb4",
   "metadata": {},
   "source": [
    "# 9. Use map() to convert all names to uppercase from the Name column."
   ]
  },
  {
   "cell_type": "code",
   "execution_count": 49,
   "id": "130d1a7b-e2c6-48d5-8c75-3fe8a815cd06",
   "metadata": {},
   "outputs": [
    {
     "data": {
      "text/html": [
       "<div>\n",
       "<style scoped>\n",
       "    .dataframe tbody tr th:only-of-type {\n",
       "        vertical-align: middle;\n",
       "    }\n",
       "\n",
       "    .dataframe tbody tr th {\n",
       "        vertical-align: top;\n",
       "    }\n",
       "\n",
       "    .dataframe thead th {\n",
       "        text-align: right;\n",
       "    }\n",
       "</style>\n",
       "<table border=\"1\" class=\"dataframe\">\n",
       "  <thead>\n",
       "    <tr style=\"text-align: right;\">\n",
       "      <th></th>\n",
       "      <th>Roll_NO</th>\n",
       "      <th>Name</th>\n",
       "      <th>Age</th>\n",
       "      <th>Marks_Math</th>\n",
       "      <th>Marks_Eng</th>\n",
       "      <th>Gender</th>\n",
       "      <th>Total_Marks</th>\n",
       "      <th>Result</th>\n",
       "    </tr>\n",
       "  </thead>\n",
       "  <tbody>\n",
       "    <tr>\n",
       "      <th>0</th>\n",
       "      <td>101</td>\n",
       "      <td>RIYA</td>\n",
       "      <td>17</td>\n",
       "      <td>88</td>\n",
       "      <td>92</td>\n",
       "      <td>Female</td>\n",
       "      <td>180</td>\n",
       "      <td>pass</td>\n",
       "    </tr>\n",
       "    <tr>\n",
       "      <th>1</th>\n",
       "      <td>102</td>\n",
       "      <td>ARJUN</td>\n",
       "      <td>18</td>\n",
       "      <td>75</td>\n",
       "      <td>85</td>\n",
       "      <td>Male</td>\n",
       "      <td>160</td>\n",
       "      <td>pass</td>\n",
       "    </tr>\n",
       "    <tr>\n",
       "      <th>2</th>\n",
       "      <td>103</td>\n",
       "      <td>SNEHA</td>\n",
       "      <td>17</td>\n",
       "      <td>90</td>\n",
       "      <td>78</td>\n",
       "      <td>Female</td>\n",
       "      <td>168</td>\n",
       "      <td>pass</td>\n",
       "    </tr>\n",
       "    <tr>\n",
       "      <th>3</th>\n",
       "      <td>104</td>\n",
       "      <td>RAKESH</td>\n",
       "      <td>19</td>\n",
       "      <td>65</td>\n",
       "      <td>70</td>\n",
       "      <td>Male</td>\n",
       "      <td>135</td>\n",
       "      <td>fail</td>\n",
       "    </tr>\n",
       "    <tr>\n",
       "      <th>4</th>\n",
       "      <td>105</td>\n",
       "      <td>ADITI</td>\n",
       "      <td>18</td>\n",
       "      <td>95</td>\n",
       "      <td>88</td>\n",
       "      <td>Female</td>\n",
       "      <td>183</td>\n",
       "      <td>pass</td>\n",
       "    </tr>\n",
       "  </tbody>\n",
       "</table>\n",
       "</div>"
      ],
      "text/plain": [
       "   Roll_NO    Name  Age  Marks_Math  Marks_Eng  Gender  Total_Marks Result\n",
       "0      101    RIYA   17          88         92  Female          180   pass\n",
       "1      102   ARJUN   18          75         85    Male          160   pass\n",
       "2      103   SNEHA   17          90         78  Female          168   pass\n",
       "3      104  RAKESH   19          65         70    Male          135   fail\n",
       "4      105   ADITI   18          95         88  Female          183   pass"
      ]
     },
     "execution_count": 49,
     "metadata": {},
     "output_type": "execute_result"
    }
   ],
   "source": [
    "df['Name']=df['Name'].map(lambda x: x.upper())\n",
    "df"
   ]
  },
  {
   "cell_type": "markdown",
   "id": "7218e0e3-2e64-4525-bbe5-0f2a77ea3083",
   "metadata": {},
   "source": [
    "# 10. Use filter() to get the list of students whose Marks_Math is greater than 80."
   ]
  },
  {
   "cell_type": "code",
   "execution_count": 50,
   "id": "26837f56-ca23-4a96-a4c7-213e16023a01",
   "metadata": {},
   "outputs": [
    {
     "data": {
      "text/plain": [
       "[88, 90, 95]"
      ]
     },
     "execution_count": 50,
     "metadata": {},
     "output_type": "execute_result"
    }
   ],
   "source": [
    "def greater(a):\n",
    "    if a>80:\n",
    "        return True\n",
    "l1=df[\"Marks_Math\"]\n",
    "res=list(filter(greater,l1))\n",
    "res"
   ]
  },
  {
   "cell_type": "markdown",
   "id": "d39b7231-fd45-4f24-98a1-53633aa34cde",
   "metadata": {},
   "source": [
    "# 11. Use lambda to create a new column Grade:\n",
    "\t•\tA if Total_Marks ≥ 170\n",
    "\t•\tB if Total_Marks ≥ 150\n",
    "\t•\tC otherwise\n"
   ]
  },
  {
   "cell_type": "code",
   "execution_count": 51,
   "id": "185a040d-fbbb-4b00-8002-73f5a82235e4",
   "metadata": {},
   "outputs": [
    {
     "data": {
      "text/html": [
       "<div>\n",
       "<style scoped>\n",
       "    .dataframe tbody tr th:only-of-type {\n",
       "        vertical-align: middle;\n",
       "    }\n",
       "\n",
       "    .dataframe tbody tr th {\n",
       "        vertical-align: top;\n",
       "    }\n",
       "\n",
       "    .dataframe thead th {\n",
       "        text-align: right;\n",
       "    }\n",
       "</style>\n",
       "<table border=\"1\" class=\"dataframe\">\n",
       "  <thead>\n",
       "    <tr style=\"text-align: right;\">\n",
       "      <th></th>\n",
       "      <th>Roll_NO</th>\n",
       "      <th>Name</th>\n",
       "      <th>Age</th>\n",
       "      <th>Marks_Math</th>\n",
       "      <th>Marks_Eng</th>\n",
       "      <th>Gender</th>\n",
       "      <th>Total_Marks</th>\n",
       "      <th>Result</th>\n",
       "      <th>Grade</th>\n",
       "    </tr>\n",
       "  </thead>\n",
       "  <tbody>\n",
       "    <tr>\n",
       "      <th>0</th>\n",
       "      <td>101</td>\n",
       "      <td>RIYA</td>\n",
       "      <td>17</td>\n",
       "      <td>88</td>\n",
       "      <td>92</td>\n",
       "      <td>Female</td>\n",
       "      <td>180</td>\n",
       "      <td>pass</td>\n",
       "      <td>A</td>\n",
       "    </tr>\n",
       "    <tr>\n",
       "      <th>1</th>\n",
       "      <td>102</td>\n",
       "      <td>ARJUN</td>\n",
       "      <td>18</td>\n",
       "      <td>75</td>\n",
       "      <td>85</td>\n",
       "      <td>Male</td>\n",
       "      <td>160</td>\n",
       "      <td>pass</td>\n",
       "      <td>B</td>\n",
       "    </tr>\n",
       "    <tr>\n",
       "      <th>2</th>\n",
       "      <td>103</td>\n",
       "      <td>SNEHA</td>\n",
       "      <td>17</td>\n",
       "      <td>90</td>\n",
       "      <td>78</td>\n",
       "      <td>Female</td>\n",
       "      <td>168</td>\n",
       "      <td>pass</td>\n",
       "      <td>B</td>\n",
       "    </tr>\n",
       "    <tr>\n",
       "      <th>3</th>\n",
       "      <td>104</td>\n",
       "      <td>RAKESH</td>\n",
       "      <td>19</td>\n",
       "      <td>65</td>\n",
       "      <td>70</td>\n",
       "      <td>Male</td>\n",
       "      <td>135</td>\n",
       "      <td>fail</td>\n",
       "      <td>C</td>\n",
       "    </tr>\n",
       "    <tr>\n",
       "      <th>4</th>\n",
       "      <td>105</td>\n",
       "      <td>ADITI</td>\n",
       "      <td>18</td>\n",
       "      <td>95</td>\n",
       "      <td>88</td>\n",
       "      <td>Female</td>\n",
       "      <td>183</td>\n",
       "      <td>pass</td>\n",
       "      <td>A</td>\n",
       "    </tr>\n",
       "  </tbody>\n",
       "</table>\n",
       "</div>"
      ],
      "text/plain": [
       "   Roll_NO    Name  Age  Marks_Math  Marks_Eng  Gender  Total_Marks Result  \\\n",
       "0      101    RIYA   17          88         92  Female          180   pass   \n",
       "1      102   ARJUN   18          75         85    Male          160   pass   \n",
       "2      103   SNEHA   17          90         78  Female          168   pass   \n",
       "3      104  RAKESH   19          65         70    Male          135   fail   \n",
       "4      105   ADITI   18          95         88  Female          183   pass   \n",
       "\n",
       "  Grade  \n",
       "0     A  \n",
       "1     B  \n",
       "2     B  \n",
       "3     C  \n",
       "4     A  "
      ]
     },
     "execution_count": 51,
     "metadata": {},
     "output_type": "execute_result"
    }
   ],
   "source": [
    "df['Grade']=df['Total_Marks'].apply(lambda x: \"A\" if x>170 else 'B' if x>150 else 'C')\n",
    "df"
   ]
  },
  {
   "cell_type": "markdown",
   "id": "ca5f0166-4f94-4dcd-aa8f-0ed23da4f4f2",
   "metadata": {},
   "source": [
    "# 12. Use reduce() to calculate the total of all Math marks.\n",
    "# (Hint: You need to from functools import reduce and apply it to students['Marks_Math'])"
   ]
  },
  {
   "cell_type": "code",
   "execution_count": 52,
   "id": "8497fce2-c000-4858-a268-25b35da1d0a8",
   "metadata": {},
   "outputs": [
    {
     "data": {
      "text/plain": [
       "413"
      ]
     },
     "execution_count": 52,
     "metadata": {},
     "output_type": "execute_result"
    }
   ],
   "source": [
    "from functools import reduce\n",
    "tm=reduce(lambda x,y : x+y  , df['Marks_Math'])\n",
    "tm"
   ]
  },
  {
   "cell_type": "markdown",
   "id": "9d78247a-0b1a-43ce-a075-db26ef25a023",
   "metadata": {},
   "source": [
    "# Challenge Questions\n",
    "# 13.Count how many students are below the age of 18."
   ]
  },
  {
   "cell_type": "code",
   "execution_count": 53,
   "id": "dc5cbcb9-e8b7-4f02-a464-c87f0bb877f2",
   "metadata": {},
   "outputs": [
    {
     "data": {
      "text/plain": [
       "2"
      ]
     },
     "execution_count": 53,
     "metadata": {},
     "output_type": "execute_result"
    }
   ],
   "source": [
    "(df['Age']<18).sum()"
   ]
  },
  {
   "cell_type": "markdown",
   "id": "b672809f-eb1e-4dfb-9de7-a77efac163f9",
   "metadata": {},
   "source": [
    "# 14.Create a new column Average which gives average of both subjects."
   ]
  },
  {
   "cell_type": "code",
   "execution_count": 54,
   "id": "9d75a4b4-0e35-4835-9626-fe9533b30a4d",
   "metadata": {},
   "outputs": [
    {
     "data": {
      "text/html": [
       "<div>\n",
       "<style scoped>\n",
       "    .dataframe tbody tr th:only-of-type {\n",
       "        vertical-align: middle;\n",
       "    }\n",
       "\n",
       "    .dataframe tbody tr th {\n",
       "        vertical-align: top;\n",
       "    }\n",
       "\n",
       "    .dataframe thead th {\n",
       "        text-align: right;\n",
       "    }\n",
       "</style>\n",
       "<table border=\"1\" class=\"dataframe\">\n",
       "  <thead>\n",
       "    <tr style=\"text-align: right;\">\n",
       "      <th></th>\n",
       "      <th>Roll_NO</th>\n",
       "      <th>Name</th>\n",
       "      <th>Age</th>\n",
       "      <th>Marks_Math</th>\n",
       "      <th>Marks_Eng</th>\n",
       "      <th>Gender</th>\n",
       "      <th>Total_Marks</th>\n",
       "      <th>Result</th>\n",
       "      <th>Grade</th>\n",
       "      <th>Average</th>\n",
       "    </tr>\n",
       "  </thead>\n",
       "  <tbody>\n",
       "    <tr>\n",
       "      <th>0</th>\n",
       "      <td>101</td>\n",
       "      <td>RIYA</td>\n",
       "      <td>17</td>\n",
       "      <td>88</td>\n",
       "      <td>92</td>\n",
       "      <td>Female</td>\n",
       "      <td>180</td>\n",
       "      <td>pass</td>\n",
       "      <td>A</td>\n",
       "      <td>90.0</td>\n",
       "    </tr>\n",
       "    <tr>\n",
       "      <th>1</th>\n",
       "      <td>102</td>\n",
       "      <td>ARJUN</td>\n",
       "      <td>18</td>\n",
       "      <td>75</td>\n",
       "      <td>85</td>\n",
       "      <td>Male</td>\n",
       "      <td>160</td>\n",
       "      <td>pass</td>\n",
       "      <td>B</td>\n",
       "      <td>80.0</td>\n",
       "    </tr>\n",
       "    <tr>\n",
       "      <th>2</th>\n",
       "      <td>103</td>\n",
       "      <td>SNEHA</td>\n",
       "      <td>17</td>\n",
       "      <td>90</td>\n",
       "      <td>78</td>\n",
       "      <td>Female</td>\n",
       "      <td>168</td>\n",
       "      <td>pass</td>\n",
       "      <td>B</td>\n",
       "      <td>84.0</td>\n",
       "    </tr>\n",
       "    <tr>\n",
       "      <th>3</th>\n",
       "      <td>104</td>\n",
       "      <td>RAKESH</td>\n",
       "      <td>19</td>\n",
       "      <td>65</td>\n",
       "      <td>70</td>\n",
       "      <td>Male</td>\n",
       "      <td>135</td>\n",
       "      <td>fail</td>\n",
       "      <td>C</td>\n",
       "      <td>67.5</td>\n",
       "    </tr>\n",
       "    <tr>\n",
       "      <th>4</th>\n",
       "      <td>105</td>\n",
       "      <td>ADITI</td>\n",
       "      <td>18</td>\n",
       "      <td>95</td>\n",
       "      <td>88</td>\n",
       "      <td>Female</td>\n",
       "      <td>183</td>\n",
       "      <td>pass</td>\n",
       "      <td>A</td>\n",
       "      <td>91.5</td>\n",
       "    </tr>\n",
       "  </tbody>\n",
       "</table>\n",
       "</div>"
      ],
      "text/plain": [
       "   Roll_NO    Name  Age  Marks_Math  Marks_Eng  Gender  Total_Marks Result  \\\n",
       "0      101    RIYA   17          88         92  Female          180   pass   \n",
       "1      102   ARJUN   18          75         85    Male          160   pass   \n",
       "2      103   SNEHA   17          90         78  Female          168   pass   \n",
       "3      104  RAKESH   19          65         70    Male          135   fail   \n",
       "4      105   ADITI   18          95         88  Female          183   pass   \n",
       "\n",
       "  Grade  Average  \n",
       "0     A     90.0  \n",
       "1     B     80.0  \n",
       "2     B     84.0  \n",
       "3     C     67.5  \n",
       "4     A     91.5  "
      ]
     },
     "execution_count": 54,
     "metadata": {},
     "output_type": "execute_result"
    }
   ],
   "source": [
    "df['Average']=df[['Marks_Math','Marks_Eng']].mean(axis=1)\n",
    "df"
   ]
  },
  {
   "cell_type": "markdown",
   "id": "56e840cb-372a-4022-baee-3f678859ee47",
   "metadata": {},
   "source": [
    "# 15.Display names of students who scored more in English than Math."
   ]
  },
  {
   "cell_type": "code",
   "execution_count": 55,
   "id": "0101a7d9-eb75-4b36-8ddc-abb57041990a",
   "metadata": {},
   "outputs": [
    {
     "data": {
      "text/plain": [
       "0      RIYA\n",
       "1     ARJUN\n",
       "3    RAKESH\n",
       "Name: Name, dtype: object"
      ]
     },
     "execution_count": 55,
     "metadata": {},
     "output_type": "execute_result"
    }
   ],
   "source": [
    "df[df['Marks_Eng']>df['Marks_Math']]['Name']"
   ]
  },
  {
   "cell_type": "markdown",
   "id": "9badfec6-86da-484f-b227-f03bedf540ff",
   "metadata": {},
   "source": [
    "# 16.Group students by Gender and calculate average marks for each gender."
   ]
  },
  {
   "cell_type": "code",
   "execution_count": 56,
   "id": "a1b3c740-50bb-4c95-a268-714cede88365",
   "metadata": {},
   "outputs": [
    {
     "data": {
      "text/html": [
       "<div>\n",
       "<style scoped>\n",
       "    .dataframe tbody tr th:only-of-type {\n",
       "        vertical-align: middle;\n",
       "    }\n",
       "\n",
       "    .dataframe tbody tr th {\n",
       "        vertical-align: top;\n",
       "    }\n",
       "\n",
       "    .dataframe thead th {\n",
       "        text-align: right;\n",
       "    }\n",
       "</style>\n",
       "<table border=\"1\" class=\"dataframe\">\n",
       "  <thead>\n",
       "    <tr style=\"text-align: right;\">\n",
       "      <th></th>\n",
       "      <th>Marks_Math</th>\n",
       "      <th>Marks_Eng</th>\n",
       "      <th>Total_Marks</th>\n",
       "    </tr>\n",
       "    <tr>\n",
       "      <th>Gender</th>\n",
       "      <th></th>\n",
       "      <th></th>\n",
       "      <th></th>\n",
       "    </tr>\n",
       "  </thead>\n",
       "  <tbody>\n",
       "    <tr>\n",
       "      <th>Female</th>\n",
       "      <td>91.0</td>\n",
       "      <td>86.0</td>\n",
       "      <td>177.0</td>\n",
       "    </tr>\n",
       "    <tr>\n",
       "      <th>Male</th>\n",
       "      <td>70.0</td>\n",
       "      <td>77.5</td>\n",
       "      <td>147.5</td>\n",
       "    </tr>\n",
       "  </tbody>\n",
       "</table>\n",
       "</div>"
      ],
      "text/plain": [
       "        Marks_Math  Marks_Eng  Total_Marks\n",
       "Gender                                    \n",
       "Female        91.0       86.0        177.0\n",
       "Male          70.0       77.5        147.5"
      ]
     },
     "execution_count": 56,
     "metadata": {},
     "output_type": "execute_result"
    }
   ],
   "source": [
    "df.groupby('Gender')[['Marks_Math','Marks_Eng','Total_Marks']].mean()"
   ]
  },
  {
   "cell_type": "markdown",
   "id": "9dcf06ef-f050-4dde-858a-6a2ddcdf81ff",
   "metadata": {},
   "source": [
    "# 17.Find the student with the highest total marks using Pandas."
   ]
  },
  {
   "cell_type": "code",
   "execution_count": 57,
   "id": "3a581008-37c9-4050-bc47-f8f7c13c3918",
   "metadata": {},
   "outputs": [
    {
     "data": {
      "text/plain": [
       "Roll_NO           105\n",
       "Name            ADITI\n",
       "Age                18\n",
       "Marks_Math         95\n",
       "Marks_Eng          88\n",
       "Gender         Female\n",
       "Total_Marks       183\n",
       "Result           pass\n",
       "Grade               A\n",
       "Average          91.5\n",
       "Name: 4, dtype: object"
      ]
     },
     "execution_count": 57,
     "metadata": {},
     "output_type": "execute_result"
    }
   ],
   "source": [
    "df.loc[df['Total_Marks'].idxmax()]"
   ]
  },
  {
   "cell_type": "code",
   "execution_count": null,
   "id": "a352571f-3d90-49ee-a3aa-4ebaa25c47cd",
   "metadata": {},
   "outputs": [],
   "source": []
  }
 ],
 "metadata": {
  "kernelspec": {
   "display_name": "Python 3 (ipykernel)",
   "language": "python",
   "name": "python3"
  },
  "language_info": {
   "codemirror_mode": {
    "name": "ipython",
    "version": 3
   },
   "file_extension": ".py",
   "mimetype": "text/x-python",
   "name": "python",
   "nbconvert_exporter": "python",
   "pygments_lexer": "ipython3",
   "version": "3.12.3"
  }
 },
 "nbformat": 4,
 "nbformat_minor": 5
}
